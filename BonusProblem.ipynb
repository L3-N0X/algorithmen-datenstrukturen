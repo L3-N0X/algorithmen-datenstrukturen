{
 "cells": [
  {
   "cell_type": "markdown",
   "id": "43b9fe54",
   "metadata": {},
   "source": [
    "# Exam Bonus Problem\n",
    "\n",
    "## Problem 12.6\n",
    "\n",
    "Implement Algorithm 4 for binary attributes and run it on a training set of your choice. You need to implement the actual learning algorithm on your own, you are not allowed to use libraries such as scikit-learn4 for that part."
   ]
  },
  {
   "cell_type": "code",
   "execution_count": 52,
   "id": "258808fa",
   "metadata": {},
   "outputs": [],
   "source": [
    "class DecisionTreeNode:\n",
    "    def __init__(self, attribute=None, data=None):\n",
    "        self.left = None\n",
    "        self.right = None\n",
    "        self.attribute = attribute\n",
    "        self.data = data\n",
    "\n",
    "    def print(self):\n",
    "        if self.left:\n",
    "            self.left.print()\n",
    "        print(self.data)\n",
    "        if self.right:\n",
    "            self.right.print()\n",
    "\n",
    "    def inorder(self):\n",
    "        if self.left:\n",
    "            yield from self.left.inorder()\n",
    "        yield self.data\n",
    "        if self.right:\n",
    "            yield from self.right.inorder()\n",
    "\n",
    "    def add_branch(self, value, subtree):\n",
    "        self.data = f\"A={value}\"\n",
    "        # True is Right subbranch\n",
    "        if value:\n",
    "            self.right = subtree\n",
    "        else:\n",
    "            self.left = subtree"
   ]
  },
  {
   "cell_type": "code",
   "execution_count": 53,
   "id": "2f505468",
   "metadata": {},
   "outputs": [],
   "source": [
    "import math\n",
    "import random\n",
    "\n",
    "\n",
    "def entropy(examples):\n",
    "    if not examples:\n",
    "        return 0\n",
    "\n",
    "    positive_count = sum(1 for a in examples if a[-1] is True)\n",
    "    q = positive_count / len(examples)\n",
    "\n",
    "    if q == 0 or q == 1:\n",
    "        return 0\n",
    "\n",
    "    return -(q * math.log(q, 2) + (1 - q) * math.log(1 - q, 2))"
   ]
  },
  {
   "cell_type": "code",
   "execution_count": 54,
   "id": "c759e4e6",
   "metadata": {},
   "outputs": [],
   "source": [
    "def plurality_val(examples):\n",
    "    subset_true = [line for line in examples if line[-1]]\n",
    "    subset_false = [line for line in examples if not line[-1]]\n",
    "\n",
    "    if len(subset_false) > len(subset_true):\n",
    "        return False\n",
    "    elif len(subset_true) > len(subset_false):\n",
    "        return True\n",
    "    else:\n",
    "        return random.choice([True, False])"
   ]
  },
  {
   "cell_type": "code",
   "execution_count": 55,
   "id": "15fa3554",
   "metadata": {},
   "outputs": [],
   "source": [
    "def importance(attribute, examples):\n",
    "    subset_false = [a for a in examples if not a[attribute]]\n",
    "    subset_true = [a for a in examples if a[attribute]]\n",
    "\n",
    "    return (\n",
    "        entropy(examples)\n",
    "        - len(subset_false) / len(examples) * entropy(subset_false)\n",
    "        - len(subset_true) / len(examples) * entropy(subset_true)\n",
    "    )"
   ]
  },
  {
   "cell_type": "code",
   "execution_count": 56,
   "id": "384bf065",
   "metadata": {},
   "outputs": [],
   "source": [
    "def argmax(attributes, examples, importance):\n",
    "    max_importance = float(\"-inf\")\n",
    "    best_attribute = None\n",
    "    for a in attributes:\n",
    "        importance_a = importance(a, examples)\n",
    "        if importance_a > max_importance:\n",
    "            max_importance = importance_a\n",
    "            best_attribute = a\n",
    "    return best_attribute"
   ]
  },
  {
   "cell_type": "code",
   "execution_count": 57,
   "id": "ac176425",
   "metadata": {},
   "outputs": [],
   "source": [
    "def dt_learning(examples, attributes, parent_examples):\n",
    "    if len(examples) == 0:\n",
    "        return plurality_val(parent_examples)\n",
    "    elif all(example[-1] == examples[0][-1] for example in examples):\n",
    "        return examples[0][-1]\n",
    "    elif len(attributes) == 0:\n",
    "        return plurality_val(examples)\n",
    "    else:\n",
    "        A = argmax(attributes, examples, importance)\n",
    "        tree = DecisionTreeNode(A)\n",
    "        for value in [True, False]:\n",
    "            new_examples = [e for e in examples if e[A] == value]\n",
    "            subtree = dt_learning(new_examples, attributes - {A}, examples)\n",
    "            tree.add_branch(value, subtree)\n",
    "        return tree"
   ]
  },
  {
   "cell_type": "markdown",
   "id": "878ce048",
   "metadata": {},
   "source": [
    "### Test Dataset for decision tree learning\n",
    "\n",
    "Format: [weather_sunny, weekend, holiday, go_outside]\\\n",
    "Attributes:\\\n",
    "    0 = Weather sunny\\\n",
    "    1 = Weekend\\\n",
    "    2 = Holiday\\\n",
    "Goal:\\\n",
    "    3 = Go_Outside\n",
    "\n"
   ]
  },
  {
   "cell_type": "code",
   "execution_count": 58,
   "id": "b0cd932c",
   "metadata": {},
   "outputs": [
    {
     "name": "stdout",
     "output_type": "stream",
     "text": [
      "Dataset:\n",
      "  Weather_Sunny  |  Weekend  |  Holiday  |  Go_Outside\n",
      "----------------------------------------------------------------\n",
      "      True               |     True        |    False     |   True      \n",
      "      True               |     False       |    False     |   False     \n",
      "      False              |     True        |    False     |   False     \n",
      "      False              |     False       |    False     |   False     \n",
      "      True               |     True        |    True      |   True      \n",
      "      True               |     False       |    True      |   True      \n",
      "      False              |     True        |    True      |   True      \n",
      "      False              |     False       |    True      |   False     \n",
      "      True               |     True        |    False     |   True      \n"
     ]
    }
   ],
   "source": [
    "examples = [\n",
    "    [True, True, False, True],  # Sunny, Weekend, Not Holiday -> Go Outside\n",
    "    [True, False, False, False],  # Sunny, Weekday, Not Holiday -> Stay Inside\n",
    "    [False, True, False, False],  # Rainy, Weekend, Not Holiday -> Stay Inside\n",
    "    [False, False, False, False],  # Rainy, Weekday, Not Holiday -> Stay Inside\n",
    "    [True, True, True, True],  # Sunny, Weekend, Holiday -> Go Outside\n",
    "    [True, False, True, True],  # Sunny, Weekday, Holiday -> Go Outside\n",
    "    [False, True, True, True],  # Rainy, Weekend, Holiday -> Go Outside\n",
    "    [False, False, True, False],  # Rainy, Weekday, Holiday -> Stay Inside\n",
    "    [True, True, False, True],  # Sunny, Weekend, Not Holiday -> Go Outside\n",
    "]\n",
    "\n",
    "# Attribute indices\n",
    "attributes = {0, 1, 2}  # Weather_Sunny, Weekend, Holiday\n",
    "\n",
    "columns = [\"Weather_Sunny\", \"Weekend\", \"Holiday\", \"Go_Outside\"]\n",
    "\n",
    "print(\"Dataset:\")\n",
    "print(f\"  {columns[0]}  |  {columns[1]}  |  {columns[2]}  |  {columns[3]}\")\n",
    "print(\"-\" * 64)\n",
    "for example in examples:\n",
    "    weather = str(example[0]).ljust(len(columns[0]))\n",
    "    weekend = str(example[1]).ljust(len(columns[1]))\n",
    "    holiday = str(example[2]).ljust(len(columns[2]))\n",
    "    go_out = str(example[3]).ljust(len(columns[3]))\n",
    "    print(f\"      {weather}      |     {weekend}     |    {holiday}   |   {go_out}\")"
   ]
  },
  {
   "cell_type": "code",
   "execution_count": 64,
   "id": "bd5421bc",
   "metadata": {},
   "outputs": [
    {
     "name": "stdout",
     "output_type": "stream",
     "text": [
      "A=False\n",
      "A=False\n"
     ]
    },
    {
     "ename": "AttributeError",
     "evalue": "'bool' object has no attribute 'print'",
     "output_type": "error",
     "traceback": [
      "\u001b[31m---------------------------------------------------------------------------\u001b[39m",
      "\u001b[31mAttributeError\u001b[39m                            Traceback (most recent call last)",
      "\u001b[36mCell\u001b[39m\u001b[36m \u001b[39m\u001b[32mIn[64]\u001b[39m\u001b[32m, line 3\u001b[39m\n\u001b[32m      1\u001b[39m tree = dt_learning(examples, attributes, examples)\n\u001b[32m----> \u001b[39m\u001b[32m3\u001b[39m \u001b[43mtree\u001b[49m\u001b[43m.\u001b[49m\u001b[43mprint\u001b[49m\u001b[43m(\u001b[49m\u001b[43m)\u001b[49m\n",
      "\u001b[36mCell\u001b[39m\u001b[36m \u001b[39m\u001b[32mIn[52]\u001b[39m\u001b[32m, line 10\u001b[39m, in \u001b[36mDecisionTreeNode.print\u001b[39m\u001b[34m(self)\u001b[39m\n\u001b[32m      8\u001b[39m \u001b[38;5;28;01mdef\u001b[39;00m\u001b[38;5;250m \u001b[39m\u001b[34mprint\u001b[39m(\u001b[38;5;28mself\u001b[39m):\n\u001b[32m      9\u001b[39m     \u001b[38;5;28;01mif\u001b[39;00m \u001b[38;5;28mself\u001b[39m.left:\n\u001b[32m---> \u001b[39m\u001b[32m10\u001b[39m         \u001b[38;5;28;43mself\u001b[39;49m\u001b[43m.\u001b[49m\u001b[43mleft\u001b[49m\u001b[43m.\u001b[49m\u001b[43mprint\u001b[49m\u001b[43m(\u001b[49m\u001b[43m)\u001b[49m\n\u001b[32m     11\u001b[39m     \u001b[38;5;28mprint\u001b[39m(\u001b[38;5;28mself\u001b[39m.data)\n\u001b[32m     12\u001b[39m     \u001b[38;5;28;01mif\u001b[39;00m \u001b[38;5;28mself\u001b[39m.right:\n",
      "\u001b[36mCell\u001b[39m\u001b[36m \u001b[39m\u001b[32mIn[52]\u001b[39m\u001b[32m, line 13\u001b[39m, in \u001b[36mDecisionTreeNode.print\u001b[39m\u001b[34m(self)\u001b[39m\n\u001b[32m     11\u001b[39m \u001b[38;5;28mprint\u001b[39m(\u001b[38;5;28mself\u001b[39m.data)\n\u001b[32m     12\u001b[39m \u001b[38;5;28;01mif\u001b[39;00m \u001b[38;5;28mself\u001b[39m.right:\n\u001b[32m---> \u001b[39m\u001b[32m13\u001b[39m     \u001b[38;5;28;43mself\u001b[39;49m\u001b[43m.\u001b[49m\u001b[43mright\u001b[49m\u001b[43m.\u001b[49m\u001b[43mprint\u001b[49m\u001b[43m(\u001b[49m\u001b[43m)\u001b[49m\n",
      "\u001b[36mCell\u001b[39m\u001b[36m \u001b[39m\u001b[32mIn[52]\u001b[39m\u001b[32m, line 13\u001b[39m, in \u001b[36mDecisionTreeNode.print\u001b[39m\u001b[34m(self)\u001b[39m\n\u001b[32m     11\u001b[39m \u001b[38;5;28mprint\u001b[39m(\u001b[38;5;28mself\u001b[39m.data)\n\u001b[32m     12\u001b[39m \u001b[38;5;28;01mif\u001b[39;00m \u001b[38;5;28mself\u001b[39m.right:\n\u001b[32m---> \u001b[39m\u001b[32m13\u001b[39m     \u001b[38;5;28;43mself\u001b[39;49m\u001b[43m.\u001b[49m\u001b[43mright\u001b[49m\u001b[43m.\u001b[49m\u001b[43mprint\u001b[49m()\n",
      "\u001b[31mAttributeError\u001b[39m: 'bool' object has no attribute 'print'"
     ]
    }
   ],
   "source": [
    "tree = dt_learning(examples, attributes, examples)\n",
    "\n",
    "tree.print()"
   ]
  }
 ],
 "metadata": {
  "kernelspec": {
   "display_name": ".venv (3.12.10)",
   "language": "python",
   "name": "python3"
  },
  "language_info": {
   "codemirror_mode": {
    "name": "ipython",
    "version": 3
   },
   "file_extension": ".py",
   "mimetype": "text/x-python",
   "name": "python",
   "nbconvert_exporter": "python",
   "pygments_lexer": "ipython3",
   "version": "3.12.10"
  }
 },
 "nbformat": 4,
 "nbformat_minor": 5
}
