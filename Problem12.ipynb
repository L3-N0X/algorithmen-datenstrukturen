{
 "cells": [
  {
   "cell_type": "markdown",
   "id": "72122d54",
   "metadata": {},
   "source": [
    "# Problem 12\n",
    "\n",
    "## Problem 12.1\n",
    "\n",
    "Review the tree implementation in Algorithm 3. Extend it by implementing traversal methods for pre- order and post-order, both as generators and without generators, respectively."
   ]
  },
  {
   "cell_type": "code",
   "execution_count": 1,
   "id": "c87f3e0a",
   "metadata": {},
   "outputs": [],
   "source": [
    "class Node:\n",
    "    def __init__(self, data):\n",
    "        self.left = None\n",
    "        self.right = None\n",
    "        self.data = data\n",
    "\n",
    "    def insert(self, data):\n",
    "        if self.data:\n",
    "            if data < self.data:\n",
    "                if self.left is None:\n",
    "                    self.left = Node(data)\n",
    "                else:\n",
    "                    self.left.insert(data)\n",
    "            elif data > self.data:\n",
    "                if self.right is None:\n",
    "                    self.right = Node(data)\n",
    "                else:\n",
    "                    self.right.insert(data)\n",
    "        else:\n",
    "            self.data = data\n",
    "\n",
    "    def print_inorder(self):\n",
    "        if self.left:\n",
    "            self.left.print_inorder()\n",
    "        print(self.data)\n",
    "        if self.right:\n",
    "            self.right.print_inorder()\n",
    "\n",
    "    def print_preorder(self):\n",
    "        print(self.data)\n",
    "        if self.left:\n",
    "            self.left.print_preorder()\n",
    "        if self.right:\n",
    "            self.right.print_preorder()\n",
    "\n",
    "    def print_postorder(self):\n",
    "        if self.left:\n",
    "            self.left.print_postorder()\n",
    "        if self.right:\n",
    "            self.right.print_postorder()\n",
    "        print(self.data)\n",
    "\n",
    "    def inorder(self):\n",
    "        if self.left:\n",
    "            yield from self.left.inorder()\n",
    "        yield self.data\n",
    "        if self.right:\n",
    "            yield from self.right.inorder()\n",
    "\n",
    "    def preorder(self):\n",
    "        yield self.data\n",
    "        if self.left:\n",
    "            yield from self.left.inorder()\n",
    "        if self.right:\n",
    "            yield from self.right.inorder()\n",
    "\n",
    "    def postorder(self):\n",
    "        if self.left:\n",
    "            yield from self.left.inorder()\n",
    "        if self.right:\n",
    "            yield from self.right.inorder()\n",
    "        yield self.data"
   ]
  },
  {
   "cell_type": "markdown",
   "id": "57baf5e6",
   "metadata": {},
   "source": [
    "## Problem 12.2\n",
    "\n",
    "Implement a function `invert(root)` that inverts a tree. Hint: using recursion, your code will be less than 10 lines"
   ]
  },
  {
   "cell_type": "code",
   "execution_count": 2,
   "id": "180f62f1",
   "metadata": {},
   "outputs": [],
   "source": [
    "def invert(root):\n",
    "    if root.left:\n",
    "        invert(root.left)\n",
    "    if root.right:\n",
    "        invert(root.right)\n",
    "    root.left, root.right = root.right, root.left"
   ]
  },
  {
   "cell_type": "code",
   "execution_count": 3,
   "id": "fb6dc72a",
   "metadata": {},
   "outputs": [
    {
     "name": "stdout",
     "output_type": "stream",
     "text": [
      "A\n",
      "C\n",
      "D\n",
      "E\n",
      "F\n",
      "G\n",
      "H\n",
      "I\n",
      "K\n",
      "L\n",
      "M\n",
      "__ INVERT __\n",
      "M\n",
      "L\n",
      "K\n",
      "I\n",
      "H\n",
      "G\n",
      "F\n",
      "E\n",
      "D\n",
      "C\n",
      "A\n"
     ]
    }
   ],
   "source": [
    "n = Node(None)\n",
    "for c in \"HEDGACDFIKLM\":\n",
    "    n.insert(c)\n",
    "\n",
    "n.print_inorder()\n",
    "\n",
    "invert(n)\n",
    "\n",
    "print(\"__ INVERT __\")\n",
    "\n",
    "n.print_inorder()\n"
   ]
  },
  {
   "cell_type": "markdown",
   "id": "a52606f6",
   "metadata": {},
   "source": [
    "## Problem 12.3\n",
    "\n",
    "You can represent a tree as a list of list, e.g. `[[1], [2, 3], [4, [5, 6, [7, 8, [9, [10, 11, 12]]]]]]`. Implement a function flatten(tree) that flattens a tree. The sample tree would then be turned into the following list: `[1, 2, 3, 4, 5, 6, 7, 8, 9, 10, 11, 12]`. Hint: using a yield expression and a yield from expression, your code will be less than 10 lines."
   ]
  },
  {
   "cell_type": "code",
   "execution_count": 4,
   "id": "c65b2acd",
   "metadata": {},
   "outputs": [
    {
     "data": {
      "text/plain": [
       "['M', 'L', 'K', 'I', 'H', 'G', 'F', 'E', 'D', 'C', 'A']"
      ]
     },
     "execution_count": 4,
     "metadata": {},
     "output_type": "execute_result"
    }
   ],
   "source": [
    "def flatten_easy(tree):\n",
    "    return list(iter(tree.inorder()))\n",
    "\n",
    "\n",
    "# test\n",
    "flatten_easy(n)"
   ]
  },
  {
   "cell_type": "code",
   "execution_count": 5,
   "id": "09b4ba14",
   "metadata": {},
   "outputs": [
    {
     "data": {
      "text/plain": [
       "['M', 'L', 'K', 'I', 'H', 'G', 'F', 'E', 'D', 'C', 'A']"
      ]
     },
     "execution_count": 5,
     "metadata": {},
     "output_type": "execute_result"
    }
   ],
   "source": [
    "def flatten(tree):\n",
    "    def inorder(tree):\n",
    "        if tree.left:\n",
    "            yield from inorder(tree.left)\n",
    "        yield tree.data\n",
    "        if tree.right:\n",
    "            yield from inorder(tree.right)\n",
    "\n",
    "    return list(iter(inorder(tree)))\n",
    "\n",
    "\n",
    "flatten(n)"
   ]
  },
  {
   "cell_type": "markdown",
   "id": "1014f8ec",
   "metadata": {},
   "source": [
    "## Problem 12.4\n",
    "\n",
    "Create a simple decision tree composed of binary attributes for a game of your choice and write a program to evaluate it based on the values of the attributes concerned."
   ]
  },
  {
   "cell_type": "code",
   "execution_count": 6,
   "id": "b015155c",
   "metadata": {},
   "outputs": [],
   "source": [
    "def decision_mario(enemy_near, block_above, block_infront, hole_infront, can_fire):\n",
    "    if enemy_near:\n",
    "        if can_fire:\n",
    "            return \"fire\"\n",
    "        else:\n",
    "            return \"jump\"\n",
    "    elif block_above:\n",
    "        return \"jump\"\n",
    "    elif block_infront:\n",
    "        return \"run,jump\"\n",
    "    elif hole_infront:\n",
    "        return \"run,jump,sprint\"\n",
    "    else:\n",
    "        return \"run\""
   ]
  },
  {
   "cell_type": "markdown",
   "id": "ad5f51d0",
   "metadata": {},
   "source": [
    "## Problem 12.5\n",
    "\n",
    "Perform the decision tree learning algorithm manually on the following data set or a data set of your choice, write out intermediate steps and the result.\n",
    "\n",
    "\n",
    "|   | sky   | air  | humid  | wind   | water | forecast | attack |\n",
    "|---|-------|------|--------|--------|-------|----------|--------|\n",
    "| 1 | sunny | warm | normal | strong | warm  | same     | +      |\n",
    "| 2 | sunny | warm | high   | strong | warm  | same     | +      |\n",
    "| 3 | rainy | cold | high   | strong | warm  | change   | -      |\n",
    "| 4 | sunny | warm | high   | strong | cool  | change   | +      |\n",
    "| 5 | sunny | warm | normal | weak   | warm  | same     | -      |"
   ]
  },
  {
   "cell_type": "markdown",
   "id": "ccc0ba4d",
   "metadata": {
    "vscode": {
     "languageId": "latex"
    }
   },
   "source": [
    "sky, air and wind have all the same IMPORTANCE.\n",
    "$$ \\begin{align*}\n",
    "    IG(D_1, sky) & =  H(D) - \\frac{4}{5} H(D_1) - \\frac{4}{5} H(D_2) \\\\ & =  H(3/5) - \\frac{4}{5} H(3/4) - \\frac{4}{5} H(1) \\\\ \n",
    "        & = -\\frac{3}{5} \\log_2(\\frac{3}{5}) - \\frac{4}{5} * \\frac{3}{4} \\log_2(3/4) - \\frac{1}{5} * 0 \\\\\n",
    "        & = 0.193  \\\\\n",
    "        & = IG(D_1, air) \\\\\n",
    "        & = IG(D_1, wind)\n",
    "\\end{align*}\n",
    " $$\n",
    "\n",
    "humid, foreacast:\n",
    "$$ \\begin{align*}\n",
    "    IG(D_1, humid) & =  H(D) - \\frac{2}{5} H(D_1) - \\frac{3}{5} H(D_2) \\\\ \n",
    "        & =  H(3/5) - \\frac{2}{5} H(1/2) - \\frac{3}{5} H(2/3) \\\\ \n",
    "        & = -\\frac{3}{5} \\log_2(\\frac{3}{5}) - \\frac{2}{5} * \\frac{1}{2} \\log_2(1/2) - \\frac{3}{5} *  \\frac{2}{3} \\log_2(2/3) \\\\ \n",
    "        & = 0.008 \\\\\n",
    "        & = IG(D_1, forecast)\n",
    "\\end{align*}\n",
    "$$\n",
    "\n",
    "water:\n",
    "$$ \\begin{align*}\n",
    "    IG(D_1, water) & =  H(D) - \\frac{4}{5} H(D_1) - \\frac{1}{5} H(D_2) \\\\ \n",
    "        & =  H(3/5) - \\frac{4}{5} H(1/2) - \\frac{1}{5} H(1) \\\\ \n",
    "        & = -\\frac{3}{5} \\log_2(\\frac{3}{5}) - \\frac{4}{5} * \\frac{1}{2} \\log_2(1/2) - \\frac{1}{5} * \\log_2(1) \\\\ \n",
    "        & = 0.042\n",
    "\\end{align*}\n",
    "$$"
   ]
  },
  {
   "cell_type": "markdown",
   "id": "931cb93e",
   "metadata": {},
   "source": [
    "sky is the first attribute\n",
    "|   | ***sky***   | air  | humid  | wind   | water | forecast | attack |\n",
    "|---|-------|------|--------|--------|-------|----------|--------|\n",
    "| 1 | sunny | warm | normal | strong | warm  | same     | +      |\n",
    "| 2 | sunny | warm | high   | strong | warm  | same     | +      |\n",
    "| 4 | sunny | warm | high   | strong | cool  | change   | +      |\n",
    "| 5 | sunny | warm | normal | weak   | warm  | same     | -      |"
   ]
  },
  {
   "cell_type": "markdown",
   "id": "17d3612a",
   "metadata": {},
   "source": [
    "\n",
    "air\n",
    "$$ \\begin{align*}\n",
    "    IG(D_{sunny}, air) & =  H(D_sunny) - \\frac{4}{5} H(D_{sunny,0}) - \\frac{4}{5} H(D_{sunny,1}) \\\\\n",
    "        & = 0\n",
    "\\end{align*}\n",
    " $$\n",
    "\n",
    "humid\n",
    "$$ \\begin{align*}\n",
    "    IG(D_{sunny}, humid) & =  H(D_sunny) - \\frac{1}{2} H(D_{sunny,0}) - \\frac{1}{2} H(D_{sunny,1}) \\\\\n",
    "        & =  H(3/4) - \\frac{1}{2} H(1/2) - \\frac{1}{2} H(1) \\\\ \n",
    "        & = -\\frac{3}{4} \\log_2(\\frac{3}{4}) - \\frac{1}{2} * \\frac{1}{2} \\log_2(1/2) - \\frac{1}{2} * 0 \\\\\n",
    "        & = 0.061\n",
    "\\end{align*}\n",
    "$$\n",
    "\n",
    "wind\n",
    "$$ \\begin{align*}\n",
    "    IG(D_{sunny}, wind) & =  H(D_sunny) - \\frac{3}{4} H(D_{sunny,0}) - \\frac{1}{4} H(D_{sunny,1}) \\\\\n",
    "        & =  H(3/4) - \\frac{3}{4} H(1) - \\frac{1}{4} H(0) \\\\ \n",
    "        & = -\\frac{3}{4} \\log_2(\\frac{3}{4}) - 0 - 0 \\\\\n",
    "        & = 0.311\n",
    "\\end{align*}\n",
    "$$\n",
    "\n",
    "water, forecast\n",
    "$$ \\begin{align*}\n",
    "    IG(D_{sunny}, water) & =  H(D_sunny) - \\frac{3}{4} H(D_{sunny,0}) - \\frac{1}{4} H(D_{sunny,1}) \\\\\n",
    "        & =  H(3/4) - \\frac{3}{4} H(2/3) - \\frac{1}{4} H(1) \\\\ \n",
    "        & = -\\frac{3}{4} \\log_2(\\frac{3}{4}) - \\frac{3}{4} * \\frac{2}{3} \\log_2(2/3) - 0 \\\\\n",
    "        & = 0.018 //\n",
    "        & = IG(D_{sunny}, forecast)\n",
    "\\end{align*}\n",
    "$$"
   ]
  },
  {
   "cell_type": "markdown",
   "id": "e67cec47",
   "metadata": {},
   "source": [
    "wind is the second attribute\n",
    "|   | sky   | air  | humid  | *wind*   | water | forecast | attack |\n",
    "|---|-------|------|--------|--------|-------|----------|--------|\n",
    "| 1 | sunny | warm | normal | strong | warm  | same     | +      |\n",
    "| 2 | sunny | warm | high   | strong | warm  | same     | +      |\n",
    "| 4 | sunny | warm | high   | strong | cool  | change   | +      |\n",
    "| 5 | sunny | warm | normal | weak   | warm  | same     | -      |\n",
    "\n",
    "=>  If sunny and strong wind -> + attack\\\n",
    "    If sunny and weak wind   -> - attack"
   ]
  },
  {
   "cell_type": "markdown",
   "id": "e894c960",
   "metadata": {},
   "source": [
    "If sky is rainy -> - attack\n",
    "\n",
    "|   | *sky*   | air  | humid  | wind   | water | forecast | attack |\n",
    "|---|-------|------|--------|--------|-------|----------|--------|\n",
    "| 3 | rainy | cold | high   | strong | warm  | change   | -      |"
   ]
  },
  {
   "cell_type": "raw",
   "id": "6e0345eb",
   "metadata": {
    "vscode": {
     "languageId": "raw"
    }
   },
   "source": [
    "                        sky = sunny?\n",
    "                        /         \\\n",
    "                      yes         no\n",
    "                     /              \\\n",
    "             wind = strong?       - attack\n",
    "             /          \\    \n",
    "           yes           no\n",
    "           /              \\\n",
    "       + attack        - attack"
   ]
  }
 ],
 "metadata": {
  "kernelspec": {
   "display_name": ".venv (3.12.8)",
   "language": "python",
   "name": "python3"
  },
  "language_info": {
   "codemirror_mode": {
    "name": "ipython",
    "version": 3
   },
   "file_extension": ".py",
   "mimetype": "text/x-python",
   "name": "python",
   "nbconvert_exporter": "python",
   "pygments_lexer": "ipython3",
   "version": "3.12.10"
  }
 },
 "nbformat": 4,
 "nbformat_minor": 5
}
