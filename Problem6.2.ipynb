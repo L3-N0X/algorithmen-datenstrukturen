{
 "cells": [
  {
   "cell_type": "markdown",
   "metadata": {},
   "source": [
    "### Problem 6.2\n",
    "\n",
    "Do exercises R-1.1 to R-1.11, C-1.13, C-1.24, C-1.25, C-1.28 and P-1.29 in Goodrich et al.\n"
   ]
  },
  {
   "cell_type": "code",
   "execution_count": null,
   "metadata": {},
   "outputs": [
    {
     "name": "stdout",
     "output_type": "stream",
     "text": [
      "True\n",
      "False\n",
      "True\n"
     ]
    }
   ],
   "source": [
    "# R-1.1\n",
    "def is_multiple(n, m):\n",
    "    return n % m == 0\n",
    "\n",
    "\n",
    "print(is_multiple(10, 5))\n",
    "print(is_multiple(10, 3))\n",
    "print(is_multiple(10, 2))"
   ]
  },
  {
   "cell_type": "code",
   "execution_count": null,
   "metadata": {},
   "outputs": [
    {
     "name": "stdout",
     "output_type": "stream",
     "text": [
      "True\n",
      "True\n",
      "True\n",
      "False\n"
     ]
    }
   ],
   "source": [
    "# R-1.2\n",
    "def is_even(n):\n",
    "    m = n >> 1\n",
    "    return n == m << 1\n",
    "\n",
    "\n",
    "def is_even_but_better(n):\n",
    "    return n & 1 == 0\n",
    "\n",
    "\n",
    "print(is_even(2))\n",
    "print(is_even(4))\n",
    "print(is_even(248932))\n",
    "print(is_even(538929))"
   ]
  },
  {
   "cell_type": "code",
   "execution_count": null,
   "metadata": {},
   "outputs": [
    {
     "name": "stdout",
     "output_type": "stream",
     "text": [
      "(1, 10)\n",
      "(1, 10)\n",
      "(1, 20)\n",
      "(1, 20)\n"
     ]
    }
   ],
   "source": [
    "# R-1.3\n",
    "import math\n",
    "\n",
    "\n",
    "def minmax(data):\n",
    "    max = -math.inf\n",
    "    min = math.inf\n",
    "    for d in data:\n",
    "        if d > max:\n",
    "            max = d\n",
    "        if d < min:\n",
    "            min = d\n",
    "\n",
    "    return min, max\n",
    "\n",
    "\n",
    "print(minmax([1, 2, 3, 4, 5, 6, 7, 8, 9, 10]))\n",
    "print(minmax([10, 9, 8, 7, 6, 5, 4, 3, 2, 1]))\n",
    "print(minmax([1, 2, 3, 4, 5, 6, 7, 8, 9, 10, 11, 12, 13, 14, 15, 16, 17, 18, 19, 20]))\n",
    "print(minmax([20, 19, 18, 17, 16, 15, 14, 13, 12, 11, 10, 9, 8, 7, 6, 5, 4, 3, 2, 1]))"
   ]
  },
  {
   "cell_type": "code",
   "execution_count": null,
   "metadata": {},
   "outputs": [
    {
     "name": "stdout",
     "output_type": "stream",
     "text": [
      "285\n",
      "2470\n",
      "8555\n"
     ]
    }
   ],
   "source": [
    "# R-1.4\n",
    "\n",
    "\n",
    "def sum_of_squares(n):\n",
    "    m = 0\n",
    "    for i in range(n):\n",
    "        m += i**2\n",
    "    return m\n",
    "\n",
    "\n",
    "print(sum_of_squares(10))\n",
    "print(sum_of_squares(20))\n",
    "print(sum_of_squares(30))"
   ]
  },
  {
   "cell_type": "code",
   "execution_count": null,
   "metadata": {},
   "outputs": [
    {
     "name": "stdout",
     "output_type": "stream",
     "text": [
      "285\n",
      "2470\n",
      "8555\n"
     ]
    }
   ],
   "source": [
    "# R-1.5\n",
    "def sum_of_squares(n):\n",
    "    return sum([i**2 for i in range(n)])\n",
    "\n",
    "\n",
    "print(sum_of_squares(10))\n",
    "print(sum_of_squares(20))\n",
    "print(sum_of_squares(30))"
   ]
  },
  {
   "cell_type": "code",
   "execution_count": null,
   "metadata": {},
   "outputs": [
    {
     "name": "stdout",
     "output_type": "stream",
     "text": [
      "165\n",
      "1330\n",
      "4495\n"
     ]
    }
   ],
   "source": [
    "# R-1.6\n",
    "def sum_of_odd_squares(n):\n",
    "    m = 0\n",
    "    for i in range(n):\n",
    "        if not is_even(i**2):\n",
    "            m += i**2\n",
    "    return m\n",
    "\n",
    "\n",
    "print(sum_of_odd_squares(10))\n",
    "print(sum_of_odd_squares(20))\n",
    "print(sum_of_odd_squares(30))"
   ]
  },
  {
   "cell_type": "code",
   "execution_count": null,
   "metadata": {},
   "outputs": [
    {
     "name": "stdout",
     "output_type": "stream",
     "text": [
      "165\n",
      "1330\n",
      "4495\n"
     ]
    }
   ],
   "source": [
    "# R-1.7\n",
    "def sum_of_odd_squares(n):\n",
    "    return sum([i**2 for i in range(n) if not is_even(i)])\n",
    "\n",
    "\n",
    "print(sum_of_odd_squares(10))\n",
    "print(sum_of_odd_squares(20))\n",
    "print(sum_of_odd_squares(30))"
   ]
  },
  {
   "cell_type": "code",
   "execution_count": null,
   "metadata": {},
   "outputs": [
    {
     "name": "stdout",
     "output_type": "stream",
     "text": [
      "True\n",
      "True\n",
      "True\n",
      "True\n",
      "True\n"
     ]
    }
   ],
   "source": [
    "# R-1.8\n",
    "def negative_indices_comparison(string, index):\n",
    "    return string[-index - 1] == string[len(string) - index - 1]\n",
    "\n",
    "\n",
    "print(negative_indices_comparison(\"string\", 1))\n",
    "print(negative_indices_comparison(\"string\", 2))\n",
    "print(negative_indices_comparison(\"string\", 3))\n",
    "print(negative_indices_comparison(\"string\", 4))\n",
    "print(negative_indices_comparison(\"string\", 5))"
   ]
  },
  {
   "cell_type": "code",
   "execution_count": 34,
   "metadata": {},
   "outputs": [
    {
     "name": "stdout",
     "output_type": "stream",
     "text": [
      "[50, 60, 70, 80]\n"
     ]
    }
   ],
   "source": [
    "# R-1.9\n",
    "print([i for i in range(50, 90, 10)])"
   ]
  },
  {
   "cell_type": "code",
   "execution_count": 35,
   "metadata": {},
   "outputs": [
    {
     "name": "stdout",
     "output_type": "stream",
     "text": [
      "[8, 6, 4, 2, 0, -2, -4, -6, -8]\n"
     ]
    }
   ],
   "source": [
    "# R-1.10\n",
    "print([i for i in range(8, -10, -2)])"
   ]
  },
  {
   "cell_type": "code",
   "execution_count": 36,
   "metadata": {},
   "outputs": [
    {
     "name": "stdout",
     "output_type": "stream",
     "text": [
      "[1, 2, 4, 8, 16, 32, 64, 128, 256]\n"
     ]
    }
   ],
   "source": [
    "# R-1.11\n",
    "print([2**i for i in range(9)])"
   ]
  },
  {
   "cell_type": "markdown",
   "metadata": {},
   "source": [
    "### Creativity\n"
   ]
  },
  {
   "cell_type": "markdown",
   "metadata": {},
   "source": [
    "Pseudocode:\n",
    "reverse(list):\n",
    "return list.reverse()\n"
   ]
  },
  {
   "cell_type": "code",
   "execution_count": null,
   "metadata": {},
   "outputs": [
    {
     "name": "stdout",
     "output_type": "stream",
     "text": [
      "[10, 9, 8, 7, 6, 5, 4, 3, 2, 1]\n"
     ]
    }
   ],
   "source": [
    "# C-1.13\n",
    "def reverse(data):\n",
    "    return data[::-1]\n",
    "\n",
    "\n",
    "print(reverse([1, 2, 3, 4, 5, 6, 7, 8, 9, 10]))"
   ]
  },
  {
   "cell_type": "code",
   "execution_count": null,
   "metadata": {},
   "outputs": [
    {
     "name": "stdout",
     "output_type": "stream",
     "text": [
      "5\n",
      "10\n",
      "7\n",
      "0\n"
     ]
    }
   ],
   "source": [
    "# C-1.24\n",
    "def vowel_counter(string):\n",
    "    counter = 0\n",
    "    for s in string.lower():\n",
    "        if s in [\"a\", \"e\", \"i\", \"o\", \"u\"]:\n",
    "            counter += 1\n",
    "\n",
    "    return counter\n",
    "\n",
    "\n",
    "print(vowel_counter(\"aeiou\"))\n",
    "print(vowel_counter(\"aeiouaeiou\"))\n",
    "print(vowel_counter(\"Hallo, wie geht es dir?\"))\n",
    "print(vowel_counter(\"Hllsdfr?\"))"
   ]
  },
  {
   "cell_type": "code",
   "execution_count": null,
   "metadata": {},
   "outputs": [
    {
     "name": "stdout",
     "output_type": "stream",
     "text": [
      "Lets try Mike\n",
      "Hallo wie geht es dir\n"
     ]
    }
   ],
   "source": [
    "# C-1.25\n",
    "def remove_punctuation(s):\n",
    "    return (\n",
    "        s.replace(\".\", \"\")\n",
    "        .replace(\",\", \"\")\n",
    "        .replace(\"!\", \"\")\n",
    "        .replace(\"?\", \"\")\n",
    "        .replace(\"'\", \"\")\n",
    "    )\n",
    "\n",
    "\n",
    "print(remove_punctuation(\"Let's try, Mike.\"))\n",
    "print(remove_punctuation(\"Hallo, wie geht es dir?\"))"
   ]
  },
  {
   "cell_type": "code",
   "execution_count": null,
   "metadata": {},
   "outputs": [
    {
     "name": "stdout",
     "output_type": "stream",
     "text": [
      "5.0\n",
      "4.497941445275415\n",
      "7.0\n"
     ]
    }
   ],
   "source": [
    "# C-1.28\n",
    "\n",
    "\n",
    "def norm(v, p):\n",
    "    return sum([i**p for i in v]) ** (1 / p)\n",
    "\n",
    "\n",
    "assert norm([4, 3], 2) == 5\n",
    "assert norm([4, 3], 3) == 4.497941445275415\n",
    "assert norm([4, 3], 1) == 7\n",
    "\n",
    "print(norm([4, 3], 2))\n",
    "print(norm([4, 3], 3))\n",
    "print(norm([4, 3], 1))"
   ]
  },
  {
   "cell_type": "markdown",
   "metadata": {},
   "source": [
    "#### P-1.29\n",
    "\n",
    "Write a Python program that outputs all possible strings formed by using the characters c , a , t , d , o , and g exactly once.\n"
   ]
  },
  {
   "cell_type": "code",
   "execution_count": null,
   "metadata": {},
   "outputs": [
    {
     "name": "stdout",
     "output_type": "stream",
     "text": [
      "['catdog', 'catdgo', 'catodg', 'catogd', 'catgdo', 'catgod', 'cadtog', 'cadtgo', 'cadotg', 'cadogt', 'cadgto', 'cadgot', 'caotdg', 'caotgd', 'caodtg', 'caodgt', 'caogtd', 'caogdt', 'cagtdo', 'cagtod', 'cagdto', 'cagdot', 'cagotd', 'cagodt', 'ctadog', 'ctadgo', 'ctaodg', 'ctaogd', 'ctagdo', 'ctagod', 'ctdaog', 'ctdago', 'ctdoag', 'ctdoga', 'ctdgao', 'ctdgoa', 'ctoadg', 'ctoagd', 'ctodag', 'ctodga', 'ctogad', 'ctogda', 'ctgado', 'ctgaod', 'ctgdao', 'ctgdoa', 'ctgoad', 'ctgoda', 'cdatog', 'cdatgo', 'cdaotg', 'cdaogt', 'cdagto', 'cdagot', 'cdtaog', 'cdtago', 'cdtoag', 'cdtoga', 'cdtgao', 'cdtgoa', 'cdoatg', 'cdoagt', 'cdotag', 'cdotga', 'cdogat', 'cdogta', 'cdgato', 'cdgaot', 'cdgtao', 'cdgtoa', 'cdgoat', 'cdgota', 'coatdg', 'coatgd', 'coadtg', 'coadgt', 'coagtd', 'coagdt', 'cotadg', 'cotagd', 'cotdag', 'cotdga', 'cotgad', 'cotgda', 'codatg', 'codagt', 'codtag', 'codtga', 'codgat', 'codgta', 'cogatd', 'cogadt', 'cogtad', 'cogtda', 'cogdat', 'cogdta', 'cgatdo', 'cgatod', 'cgadto', 'cgadot', 'cgaotd', 'cgaodt', 'cgtado', 'cgtaod', 'cgtdao', 'cgtdoa', 'cgtoad', 'cgtoda', 'cgdato', 'cgdaot', 'cgdtao', 'cgdtoa', 'cgdoat', 'cgdota', 'cgoatd', 'cgoadt', 'cgotad', 'cgotda', 'cgodat', 'cgodta', 'actdog', 'actdgo', 'actodg', 'actogd', 'actgdo', 'actgod', 'acdtog', 'acdtgo', 'acdotg', 'acdogt', 'acdgto', 'acdgot', 'acotdg', 'acotgd', 'acodtg', 'acodgt', 'acogtd', 'acogdt', 'acgtdo', 'acgtod', 'acgdto', 'acgdot', 'acgotd', 'acgodt', 'atcdog', 'atcdgo', 'atcodg', 'atcogd', 'atcgdo', 'atcgod', 'atdcog', 'atdcgo', 'atdocg', 'atdogc', 'atdgco', 'atdgoc', 'atocdg', 'atocgd', 'atodcg', 'atodgc', 'atogcd', 'atogdc', 'atgcdo', 'atgcod', 'atgdco', 'atgdoc', 'atgocd', 'atgodc', 'adctog', 'adctgo', 'adcotg', 'adcogt', 'adcgto', 'adcgot', 'adtcog', 'adtcgo', 'adtocg', 'adtogc', 'adtgco', 'adtgoc', 'adoctg', 'adocgt', 'adotcg', 'adotgc', 'adogct', 'adogtc', 'adgcto', 'adgcot', 'adgtco', 'adgtoc', 'adgoct', 'adgotc', 'aoctdg', 'aoctgd', 'aocdtg', 'aocdgt', 'aocgtd', 'aocgdt', 'aotcdg', 'aotcgd', 'aotdcg', 'aotdgc', 'aotgcd', 'aotgdc', 'aodctg', 'aodcgt', 'aodtcg', 'aodtgc', 'aodgct', 'aodgtc', 'aogctd', 'aogcdt', 'aogtcd', 'aogtdc', 'aogdct', 'aogdtc', 'agctdo', 'agctod', 'agcdto', 'agcdot', 'agcotd', 'agcodt', 'agtcdo', 'agtcod', 'agtdco', 'agtdoc', 'agtocd', 'agtodc', 'agdcto', 'agdcot', 'agdtco', 'agdtoc', 'agdoct', 'agdotc', 'agoctd', 'agocdt', 'agotcd', 'agotdc', 'agodct', 'agodtc', 'tcadog', 'tcadgo', 'tcaodg', 'tcaogd', 'tcagdo', 'tcagod', 'tcdaog', 'tcdago', 'tcdoag', 'tcdoga', 'tcdgao', 'tcdgoa', 'tcoadg', 'tcoagd', 'tcodag', 'tcodga', 'tcogad', 'tcogda', 'tcgado', 'tcgaod', 'tcgdao', 'tcgdoa', 'tcgoad', 'tcgoda', 'tacdog', 'tacdgo', 'tacodg', 'tacogd', 'tacgdo', 'tacgod', 'tadcog', 'tadcgo', 'tadocg', 'tadogc', 'tadgco', 'tadgoc', 'taocdg', 'taocgd', 'taodcg', 'taodgc', 'taogcd', 'taogdc', 'tagcdo', 'tagcod', 'tagdco', 'tagdoc', 'tagocd', 'tagodc', 'tdcaog', 'tdcago', 'tdcoag', 'tdcoga', 'tdcgao', 'tdcgoa', 'tdacog', 'tdacgo', 'tdaocg', 'tdaogc', 'tdagco', 'tdagoc', 'tdocag', 'tdocga', 'tdoacg', 'tdoagc', 'tdogca', 'tdogac', 'tdgcao', 'tdgcoa', 'tdgaco', 'tdgaoc', 'tdgoca', 'tdgoac', 'tocadg', 'tocagd', 'tocdag', 'tocdga', 'tocgad', 'tocgda', 'toacdg', 'toacgd', 'toadcg', 'toadgc', 'toagcd', 'toagdc', 'todcag', 'todcga', 'todacg', 'todagc', 'todgca', 'todgac', 'togcad', 'togcda', 'togacd', 'togadc', 'togdca', 'togdac', 'tgcado', 'tgcaod', 'tgcdao', 'tgcdoa', 'tgcoad', 'tgcoda', 'tgacdo', 'tgacod', 'tgadco', 'tgadoc', 'tgaocd', 'tgaodc', 'tgdcao', 'tgdcoa', 'tgdaco', 'tgdaoc', 'tgdoca', 'tgdoac', 'tgocad', 'tgocda', 'tgoacd', 'tgoadc', 'tgodca', 'tgodac', 'dcatog', 'dcatgo', 'dcaotg', 'dcaogt', 'dcagto', 'dcagot', 'dctaog', 'dctago', 'dctoag', 'dctoga', 'dctgao', 'dctgoa', 'dcoatg', 'dcoagt', 'dcotag', 'dcotga', 'dcogat', 'dcogta', 'dcgato', 'dcgaot', 'dcgtao', 'dcgtoa', 'dcgoat', 'dcgota', 'dactog', 'dactgo', 'dacotg', 'dacogt', 'dacgto', 'dacgot', 'datcog', 'datcgo', 'datocg', 'datogc', 'datgco', 'datgoc', 'daoctg', 'daocgt', 'daotcg', 'daotgc', 'daogct', 'daogtc', 'dagcto', 'dagcot', 'dagtco', 'dagtoc', 'dagoct', 'dagotc', 'dtcaog', 'dtcago', 'dtcoag', 'dtcoga', 'dtcgao', 'dtcgoa', 'dtacog', 'dtacgo', 'dtaocg', 'dtaogc', 'dtagco', 'dtagoc', 'dtocag', 'dtocga', 'dtoacg', 'dtoagc', 'dtogca', 'dtogac', 'dtgcao', 'dtgcoa', 'dtgaco', 'dtgaoc', 'dtgoca', 'dtgoac', 'docatg', 'docagt', 'doctag', 'doctga', 'docgat', 'docgta', 'doactg', 'doacgt', 'doatcg', 'doatgc', 'doagct', 'doagtc', 'dotcag', 'dotcga', 'dotacg', 'dotagc', 'dotgca', 'dotgac', 'dogcat', 'dogcta', 'dogact', 'dogatc', 'dogtca', 'dogtac', 'dgcato', 'dgcaot', 'dgctao', 'dgctoa', 'dgcoat', 'dgcota', 'dgacto', 'dgacot', 'dgatco', 'dgatoc', 'dgaoct', 'dgaotc', 'dgtcao', 'dgtcoa', 'dgtaco', 'dgtaoc', 'dgtoca', 'dgtoac', 'dgocat', 'dgocta', 'dgoact', 'dgoatc', 'dgotca', 'dgotac', 'ocatdg', 'ocatgd', 'ocadtg', 'ocadgt', 'ocagtd', 'ocagdt', 'octadg', 'octagd', 'octdag', 'octdga', 'octgad', 'octgda', 'ocdatg', 'ocdagt', 'ocdtag', 'ocdtga', 'ocdgat', 'ocdgta', 'ocgatd', 'ocgadt', 'ocgtad', 'ocgtda', 'ocgdat', 'ocgdta', 'oactdg', 'oactgd', 'oacdtg', 'oacdgt', 'oacgtd', 'oacgdt', 'oatcdg', 'oatcgd', 'oatdcg', 'oatdgc', 'oatgcd', 'oatgdc', 'oadctg', 'oadcgt', 'oadtcg', 'oadtgc', 'oadgct', 'oadgtc', 'oagctd', 'oagcdt', 'oagtcd', 'oagtdc', 'oagdct', 'oagdtc', 'otcadg', 'otcagd', 'otcdag', 'otcdga', 'otcgad', 'otcgda', 'otacdg', 'otacgd', 'otadcg', 'otadgc', 'otagcd', 'otagdc', 'otdcag', 'otdcga', 'otdacg', 'otdagc', 'otdgca', 'otdgac', 'otgcad', 'otgcda', 'otgacd', 'otgadc', 'otgdca', 'otgdac', 'odcatg', 'odcagt', 'odctag', 'odctga', 'odcgat', 'odcgta', 'odactg', 'odacgt', 'odatcg', 'odatgc', 'odagct', 'odagtc', 'odtcag', 'odtcga', 'odtacg', 'odtagc', 'odtgca', 'odtgac', 'odgcat', 'odgcta', 'odgact', 'odgatc', 'odgtca', 'odgtac', 'ogcatd', 'ogcadt', 'ogctad', 'ogctda', 'ogcdat', 'ogcdta', 'ogactd', 'ogacdt', 'ogatcd', 'ogatdc', 'ogadct', 'ogadtc', 'ogtcad', 'ogtcda', 'ogtacd', 'ogtadc', 'ogtdca', 'ogtdac', 'ogdcat', 'ogdcta', 'ogdact', 'ogdatc', 'ogdtca', 'ogdtac', 'gcatdo', 'gcatod', 'gcadto', 'gcadot', 'gcaotd', 'gcaodt', 'gctado', 'gctaod', 'gctdao', 'gctdoa', 'gctoad', 'gctoda', 'gcdato', 'gcdaot', 'gcdtao', 'gcdtoa', 'gcdoat', 'gcdota', 'gcoatd', 'gcoadt', 'gcotad', 'gcotda', 'gcodat', 'gcodta', 'gactdo', 'gactod', 'gacdto', 'gacdot', 'gacotd', 'gacodt', 'gatcdo', 'gatcod', 'gatdco', 'gatdoc', 'gatocd', 'gatodc', 'gadcto', 'gadcot', 'gadtco', 'gadtoc', 'gadoct', 'gadotc', 'gaoctd', 'gaocdt', 'gaotcd', 'gaotdc', 'gaodct', 'gaodtc', 'gtcado', 'gtcaod', 'gtcdao', 'gtcdoa', 'gtcoad', 'gtcoda', 'gtacdo', 'gtacod', 'gtadco', 'gtadoc', 'gtaocd', 'gtaodc', 'gtdcao', 'gtdcoa', 'gtdaco', 'gtdaoc', 'gtdoca', 'gtdoac', 'gtocad', 'gtocda', 'gtoacd', 'gtoadc', 'gtodca', 'gtodac', 'gdcato', 'gdcaot', 'gdctao', 'gdctoa', 'gdcoat', 'gdcota', 'gdacto', 'gdacot', 'gdatco', 'gdatoc', 'gdaoct', 'gdaotc', 'gdtcao', 'gdtcoa', 'gdtaco', 'gdtaoc', 'gdtoca', 'gdtoac', 'gdocat', 'gdocta', 'gdoact', 'gdoatc', 'gdotca', 'gdotac', 'gocatd', 'gocadt', 'goctad', 'goctda', 'gocdat', 'gocdta', 'goactd', 'goacdt', 'goatcd', 'goatdc', 'goadct', 'goadtc', 'gotcad', 'gotcda', 'gotacd', 'gotadc', 'gotdca', 'gotdac', 'godcat', 'godcta', 'godact', 'godatc', 'godtca', 'godtac']\n"
     ]
    }
   ],
   "source": [
    "# P-1.29\n",
    "catdog = [\"c\", \"a\", \"t\", \"d\", \"o\", \"g\"]\n",
    "\n",
    "\n",
    "def get_all_combinations(chars):\n",
    "    if len(chars) == 1:\n",
    "        return chars\n",
    "    else:\n",
    "        result = []\n",
    "        for i in range(len(chars)):\n",
    "            for c in get_all_combinations(chars[:i] + chars[i + 1 :]):\n",
    "                result.append(chars[i] + c)\n",
    "        return result\n",
    "\n",
    "\n",
    "print(get_all_combinations(catdog))"
   ]
  },
  {
   "cell_type": "code",
   "execution_count": null,
   "metadata": {},
   "outputs": [
    {
     "name": "stdout",
     "output_type": "stream",
     "text": [
      "3.2\n",
      "3.172\n",
      "3.1664\n",
      "3.14216\n",
      "3.14162\n",
      "\n",
      "\n",
      "3.16\n",
      "3.164\n",
      "3.1376\n",
      "3.14424\n",
      "3.14274\n"
     ]
    }
   ],
   "source": [
    "import random\n",
    "import math\n",
    "\n",
    "\n",
    "def monte_carlo_pi(n):\n",
    "    pointsX = [random.random() * 2 - 1 for i in range(n)]\n",
    "    pointsY = [random.random() * 2 - 1 for i in range(n)]\n",
    "    inner = 0\n",
    "    points = list(zip(pointsX, pointsY))\n",
    "    for pX, pY in points:\n",
    "        if math.sqrt(pX**2 + pY**2) <= 1:\n",
    "            inner += 1\n",
    "    return (inner / n) * 4\n",
    "\n",
    "\n",
    "print(monte_carlo_pi(100))\n",
    "print(monte_carlo_pi(1_000))\n",
    "print(monte_carlo_pi(10_000))\n",
    "print(monte_carlo_pi(100_000))\n",
    "print(monte_carlo_pi(1_000_000))\n",
    "\n",
    "\n",
    "def monte_carlo_pi_better(n):\n",
    "    inner = 0\n",
    "    for i in range(n):\n",
    "        pX = random.uniform(-1, 1)\n",
    "        pY = random.uniform(-1, 1)\n",
    "        if pX * pX + pY * pY <= 1:\n",
    "            inner += 1\n",
    "    return (inner / n) * 4\n",
    "\n",
    "\n",
    "print(\"\\n\")\n",
    "print(monte_carlo_pi_better(100))\n",
    "print(monte_carlo_pi_better(1_000))\n",
    "print(monte_carlo_pi_better(10_000))\n",
    "print(monte_carlo_pi_better(100_000))\n",
    "print(monte_carlo_pi_better(1_000_000))"
   ]
  }
 ],
 "metadata": {
  "kernelspec": {
   "display_name": ".venv (3.12.8)",
   "language": "python",
   "name": "python3"
  },
  "language_info": {
   "codemirror_mode": {
    "name": "ipython",
    "version": 3
   },
   "file_extension": ".py",
   "mimetype": "text/x-python",
   "name": "python",
   "nbconvert_exporter": "python",
   "pygments_lexer": "ipython3",
   "version": "3.12.8"
  }
 },
 "nbformat": 4,
 "nbformat_minor": 2
}
