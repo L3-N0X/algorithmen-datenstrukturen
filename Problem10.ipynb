{
 "cells": [
  {
   "cell_type": "markdown",
   "id": "ccd7f840",
   "metadata": {},
   "source": [
    "# Problem 10\n",
    "\n",
    "## Problem 10.1\n",
    "Do exercises R-4.1, R-4.2, C-4.9 and C-4.17 in Goodrich et al.\n",
    "\n",
    "### R-4.1\n",
    "Describe a recursive algorithm for finding the maximum element in a sequence, $S$, of $n$ elements. What is your running time and space usage?e and space usage?"
   ]
  },
  {
   "cell_type": "markdown",
   "id": "484e7586",
   "metadata": {},
   "source": [
    "> *As long as there are elements, go to the next element. If there is no next element stop and return your value. Then the previous element gets active and returns his value only if his value is larger than the received value.*\\\n",
    "> Running Time: $O(n)$\\\n",
    "> Space complexity: $O(1)$"
   ]
  },
  {
   "cell_type": "markdown",
   "id": "44de3e52",
   "metadata": {},
   "source": [
    "### R-4.2\n",
    "Draw the recursion trace for the computation of $\\texttt{power(2, 5)}$, using the traditional function implemented in Code Fragment 4.11."
   ]
  },
  {
   "cell_type": "code",
   "execution_count": null,
   "id": "f49612f1",
   "metadata": {},
   "outputs": [],
   "source": [
    "# Code Fragment 4.11: Computing the power function using trivial recursion.\n",
    "def power(x, n):\n",
    "    \"\"\" Compute the value x**n for integer n.\"\"\"\n",
    "    if n == 0:\n",
    "        return 1\n",
    "    else:\n",
    "        return x * power(x, n-1)\n"
   ]
  },
  {
   "cell_type": "raw",
   "id": "8f4c1d24",
   "metadata": {
    "vscode": {
     "languageId": "raw"
    }
   },
   "source": [
    "power(2,5)          return 2 * 16   = 32\n",
    "-> power(2,4)       return 2 * 8    = 16\n",
    "--> power(2,3)      return 2 * 4    = 8\n",
    "---> power(2,2)     return 2 * 2    = 4\n",
    "----> power(2,1)    return 2 * 1    = 2\n",
    "-----> power(2,0)   return 1        = 1"
   ]
  },
  {
   "cell_type": "markdown",
   "id": "06a4ab90",
   "metadata": {},
   "source": [
    "### C-4.9\n",
    "Write a short recursive Python function that finds the minimum and maximum values in a sequence without using any loops."
   ]
  },
  {
   "cell_type": "code",
   "execution_count": 3,
   "id": "cfd9149b",
   "metadata": {},
   "outputs": [
    {
     "name": "stdout",
     "output_type": "stream",
     "text": [
      "(1, 34534)\n"
     ]
    }
   ],
   "source": [
    "def min_max(sequence, index=0):\n",
    "    if index == len(sequence) - 1:\n",
    "        return sequence[index], sequence[index]\n",
    "    else:\n",
    "        min, max = min_max(sequence, index + 1)\n",
    "        if sequence[index] < min:\n",
    "            min = sequence[index]\n",
    "        if sequence[index] > max:\n",
    "            max = sequence[index]\n",
    "        return min, max\n",
    "\n",
    "print(min_max([1,3,8,234,34,23,34534,756,345,345,245,568,4,2334,13,6]))"
   ]
  },
  {
   "cell_type": "markdown",
   "id": "0f2f658d",
   "metadata": {},
   "source": [
    "### C-4.17\n",
    "Write a short recursive Python function that determines if a string s is a palindrome, that is, it is equal to its reverse. For example, $\\texttt{'racecar'}$ and $\\texttt{'gohangasalamiimalasagnahog'}$ are palindromes.\n"
   ]
  },
  {
   "cell_type": "code",
   "execution_count": 16,
   "id": "2208fd37",
   "metadata": {},
   "outputs": [
    {
     "name": "stdout",
     "output_type": "stream",
     "text": [
      "True\n",
      "True\n",
      "True\n",
      "False\n"
     ]
    }
   ],
   "source": [
    "def is_palindrome(s):\n",
    "    if len(s) > 1:\n",
    "        return is_palindrome(s[1:-1]) and s[0] == s[-1]\n",
    "    else: \n",
    "        return True\n",
    "    \n",
    "    \n",
    "print(is_palindrome(\"racecar\"))\n",
    "print(is_palindrome(\"gohangasalamiimalasagnahog\"))\n",
    "print(is_palindrome(\"dreh malam herd\"))\n",
    "print(is_palindrome(\"hallo\"))"
   ]
  },
  {
   "cell_type": "markdown",
   "id": "f93864b9",
   "metadata": {},
   "source": [
    "## Problem 10.2\n",
    "\n",
    "A trivial recursive definition of the power function follows from the fact that $x^n = x \\times x^{n-1}$ for $n > 0:$\n",
    "$$power(x, n) = \\begin{cases} 1 & n = 0 \\\\ x \\times power(x, n-1) & otherwise \\end{cases}.$$\n",
    "Implement this function and determine its running time complexity."
   ]
  },
  {
   "cell_type": "code",
   "execution_count": 18,
   "id": "1a6fab96",
   "metadata": {},
   "outputs": [],
   "source": [
    "def power(x, n):\n",
    "    if n == 0:\n",
    "        return 1\n",
    "    else:\n",
    "        return x * power(x,n-1)"
   ]
  },
  {
   "cell_type": "markdown",
   "id": "da9302b9",
   "metadata": {},
   "source": [
    "Time complexity: $O(n)$"
   ]
  },
  {
   "cell_type": "markdown",
   "id": "a676400b",
   "metadata": {},
   "source": [
    "## Problem 10.3\n",
    "\n",
    "There is a much faster way to compute the power function using an alternative definition that employs a squaring technique: \n",
    "$$power(x, n) = \\begin{cases} 1 & n = 0 \\\\ power(x, \\frac{n}{2})^2 & \\text{if } n > 0 \\text{ is even} \\\\ x \\times power(x, \\frac{n}{2})^2 & \\text{if } n > 0 \\text{ is odd} \\end{cases} $$\n",
    "Let $\\frac{n}{2}$ denote the floor of the division (expressed as $n // 2$ in Python). Implement this function and determine its running time complexity."
   ]
  },
  {
   "cell_type": "code",
   "execution_count": 23,
   "id": "8d71c971",
   "metadata": {},
   "outputs": [
    {
     "data": {
      "text/plain": [
       "32"
      ]
     },
     "execution_count": 23,
     "metadata": {},
     "output_type": "execute_result"
    }
   ],
   "source": [
    "def power_better(x,n):\n",
    "    if n == 0:\n",
    "        return 1\n",
    "    elif n > 0 and n % 2 == 0:\n",
    "        return power(x, n // 2) ** 2\n",
    "    elif n > 0 and n % 2 == 1:\n",
    "        return x * power(x, n // 2) ** 2\n",
    "\n",
    "power_better(2,5)"
   ]
  },
  {
   "cell_type": "raw",
   "id": "ca990275",
   "metadata": {
    "vscode": {
     "languageId": "raw"
    }
   },
   "source": [
    "power(2,5)\n",
    "2 * power(2,2) ** 2\n",
    "2 * (power(2,1) ** 2) ** 2\n",
    "2 * ((2 * power(2, 0) ** 2) ** 2) ** 2\n",
    "2 * (( 2 * 1^2)^2)^2\n",
    "2 * 2^(2^2)"
   ]
  },
  {
   "cell_type": "markdown",
   "id": "7c22db47",
   "metadata": {},
   "source": [
    "Time complexity: $O(\\log n)$"
   ]
  }
 ],
 "metadata": {
  "kernelspec": {
   "display_name": ".venv (3.12.8)",
   "language": "python",
   "name": "python3"
  },
  "language_info": {
   "codemirror_mode": {
    "name": "ipython",
    "version": 3
   },
   "file_extension": ".py",
   "mimetype": "text/x-python",
   "name": "python",
   "nbconvert_exporter": "python",
   "pygments_lexer": "ipython3",
   "version": "3.12.10"
  }
 },
 "nbformat": 4,
 "nbformat_minor": 5
}
