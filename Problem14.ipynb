{
 "cells": [
  {
   "cell_type": "markdown",
   "id": "022bb559",
   "metadata": {},
   "source": [
    "# Problem 14\n",
    "\n",
    "## Problem 14.1\n",
    "\n",
    "The recurrence relation for naive matrix multiplication is as follows:\n",
    "\n",
    "$$\n",
    " T(n) = 8T(n/2) + \\Theta (n^2) \\\\\n",
    "T(1) = 1\n",
    "\n",
    "$$\n",
    "\n",
    "Derive the worst-case running time complexity of naive matrix multiplication.\n",
    "___\n",
    "\n",
    "\n",
    "$$T(n) = 8T(n/2) + \\Theta(n^2)$$\n",
    "\n",
    "\n",
    "$\\log_b a = \\log_2 8 = 3$\n",
    "$T(n) = \\Theta(n^{\\log_b a})$\n",
    "\n",
    "\n",
    "\n",
    "$$T(n) = \\Theta(n^{\\log_b a}) = \\Theta(n^3)$$\n",
    "\n",
    "The worst-case running time complexity of naive matrix multiplication is **$\\Theta(n^3)$**."
   ]
  },
  {
   "cell_type": "markdown",
   "id": "b1eed89e",
   "metadata": {},
   "source": [
    "## Problem 14.2\n",
    "\n",
    "# Problem 14\n",
    "\n",
    "## Problem 14.1\n",
    "\n",
    "The recurrence relation for the Strtassen algorithm is as follows:\n",
    "\n",
    "$$\n",
    " T(n) = 7T(n/2) + \\Theta (n^2) \\\\\n",
    "T(1) = 1\n",
    "\n",
    "$$\n",
    "\n",
    "Derive the worst-case running time complexity of the Strassen algorithm.\n",
    "___\n",
    "\n",
    "\n",
    "$$T(n) = 7T(n/2) + \\Theta(n^2)$$\n",
    "\n",
    "\n",
    "$\\log_b a = \\log_2 7 = 2.8074$\n",
    "$T(n) = \\Theta(n^{\\log_b a})$\n",
    "\n",
    "\n",
    "\n",
    "$$T(n) = \\Theta(n^{\\log_b a}) = \\Theta(n^{\\log_2 7})$$\n",
    "\n",
    "The worst-case running time complexity of naive matrix multiplication is **$\\Theta(n^{\\log_2 7}) = \\Theta(n^{2.8074}) $**."
   ]
  }
 ],
 "metadata": {
  "kernelspec": {
   "display_name": ".venv (3.12.8)",
   "language": "python",
   "name": "python3"
  },
  "language_info": {
   "name": "python",
   "version": "3.12.8"
  }
 },
 "nbformat": 4,
 "nbformat_minor": 5
}
