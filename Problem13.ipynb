{
 "cells": [
  {
   "cell_type": "markdown",
   "id": "982220e2",
   "metadata": {},
   "source": [
    "# Problem 13\n",
    "\n",
    "## Problem 13.1\n",
    "\n",
    "### R-10.1\n",
    "\n",
    "Give a concrete implementation of the pop method in the context of the MutableMapping class, relying only on the five primary abstract methods of that class."
   ]
  },
  {
   "cell_type": "markdown",
   "id": "0100ab86",
   "metadata": {},
   "source": [
    "getitem , setitem , delitem , len , and iter are already there"
   ]
  },
  {
   "cell_type": "code",
   "execution_count": 2,
   "id": "f3598c19",
   "metadata": {},
   "outputs": [],
   "source": [
    "from collections.abc import MutableMapping\n",
    "\n",
    "\n",
    "class MapBase(MutableMapping):\n",
    "    class _Item:\n",
    "        __slots__ = \"_key\", \"_value\"\n",
    "\n",
    "        def __init__(self, k, v):\n",
    "            self._key = k\n",
    "            self._value = v\n",
    "\n",
    "        def __eq__(self, other):\n",
    "            return self._key == other._key\n",
    "\n",
    "        def __ne__(self, other):\n",
    "            return not (self == other)\n",
    "\n",
    "        def __lt__(self, other):\n",
    "            return self._key < other._key\n",
    "\n",
    "\n",
    "class UnsortedTableMap(MapBase):\n",
    "    def __init__(self):\n",
    "        self._table = []\n",
    "\n",
    "    def __getitem__(self, k):\n",
    "        for item in self._table:\n",
    "            if k == item._key:\n",
    "                return item._value\n",
    "        raise KeyError(\"Key Error {0}\".format(k))\n",
    "\n",
    "    def __setitem__(self, k, v):\n",
    "        for item in self._table:\n",
    "            if k == item._key:\n",
    "                item._value = v\n",
    "                return\n",
    "        self._table.append(self._Item(k, v))\n",
    "\n",
    "    def __delitem__(self, k):\n",
    "        for j in range(len(self._table)):\n",
    "            if k == self._table[j]._key:\n",
    "                self._table.pop(j)\n",
    "                return\n",
    "        raise KeyError(\"Key Error {0}\".format(k))\n",
    "\n",
    "    def __len__(self):\n",
    "        return len(self._table)\n",
    "\n",
    "    def __iter__(self):\n",
    "        for item in self._table:\n",
    "            yield item._key\n",
    "\n",
    "    def pop(self, key):\n",
    "        item = self[key]\n",
    "        del self[key]\n",
    "        return item"
   ]
  },
  {
   "cell_type": "code",
   "execution_count": 3,
   "id": "dd983b23",
   "metadata": {},
   "outputs": [
    {
     "name": "stdout",
     "output_type": "stream",
     "text": [
      "3\n",
      "2\n",
      "Deleted successfully!\n"
     ]
    }
   ],
   "source": [
    "tb = UnsortedTableMap()\n",
    "tb[\"one\"] = 1\n",
    "tb[\"two\"] = 2\n",
    "tb[\"three\"] = 3\n",
    "\n",
    "print(len(tb))\n",
    "\n",
    "tb.pop(\"two\")\n",
    "print(len(tb))\n",
    "try:\n",
    "    tb[\"two\"]\n",
    "except KeyError:\n",
    "    print(\"Deleted successfully!\")"
   ]
  },
  {
   "cell_type": "markdown",
   "id": "df6a985a",
   "metadata": {},
   "source": [
    "### R-10.3\n",
    "\n",
    "Give a concrete implementation of the `items( )` method directly within the `UnsortedTableMap` class, ensuring that the entire iteration runs in $O(n)$ time."
   ]
  },
  {
   "cell_type": "code",
   "execution_count": 4,
   "id": "5989c951",
   "metadata": {},
   "outputs": [],
   "source": [
    "class UnsortedTableMap2(MapBase):\n",
    "    def __init__(self):\n",
    "        self._table = []\n",
    "\n",
    "    def __getitem__(self, k):\n",
    "        for item in self._table:\n",
    "            if k == item._key:\n",
    "                return item._value\n",
    "        raise KeyError(\"Key Error {0}\".format(k))\n",
    "\n",
    "    def __setitem__(self, k, v):\n",
    "        for item in self._table:\n",
    "            if k == item._key:\n",
    "                item._value = v\n",
    "                return\n",
    "        self._table.append(self._Item(k, v))\n",
    "\n",
    "    def __delitem__(self, k):\n",
    "        for j in range(len(self._table)):\n",
    "            if k == self._table[j]._key:\n",
    "                self._table.pop(j)\n",
    "                return\n",
    "        raise KeyError(\"Key Error {0}\".format(k))\n",
    "\n",
    "    def __len__(self):\n",
    "        return len(self._table)\n",
    "\n",
    "    def __iter__(self):\n",
    "        for item in self._table:\n",
    "            yield item._key\n",
    "\n",
    "    def items(self):\n",
    "        items = []\n",
    "        for item in self._table:\n",
    "            items.append(item._value)\n",
    "        return items"
   ]
  },
  {
   "cell_type": "code",
   "execution_count": 7,
   "id": "8df4d5e2",
   "metadata": {},
   "outputs": [
    {
     "name": "stdout",
     "output_type": "stream",
     "text": [
      "[1, 2, 3]\n"
     ]
    }
   ],
   "source": [
    "tb = UnsortedTableMap2()\n",
    "tb[\"one\"] = 1\n",
    "tb[\"two\"] = 2\n",
    "tb[\"three\"] = 3\n",
    "\n",
    "print(tb.items())"
   ]
  },
  {
   "cell_type": "markdown",
   "id": "6a207f01",
   "metadata": {},
   "source": [
    "## Problem 13.2\n",
    "\n",
    "### R-10.9 \n",
    "\n",
    "Draw the 11-entry hash table that results from using the hash function, $h(i) = (3i + 5) \\,\\mathrm{ mod }\\, 11$, to hash the keys $12$, $44$, $13$, $88$, $23$, $94$, $11$, $39$, $20$, $16$, and $5$, assuming collisions are handled by chaining."
   ]
  },
  {
   "cell_type": "code",
   "execution_count": null,
   "id": "3060a65d",
   "metadata": {},
   "outputs": [
    {
     "name": "stdout",
     "output_type": "stream",
     "text": [
      "i = 12 -> h(i) = 8\n",
      "i = 44 -> h(i) = 5\n",
      "i = 13 -> h(i) = 0\n",
      "i = 88 -> h(i) = 5\n",
      "i = 23 -> h(i) = 8\n",
      "i = 94 -> h(i) = 1\n",
      "i = 11 -> h(i) = 5\n",
      "i = 39 -> h(i) = 1\n",
      "i = 20 -> h(i) = 10\n",
      "i = 16 -> h(i) = 9\n",
      "i = 5 -> h(i) = 9\n"
     ]
    }
   ],
   "source": [
    "def h(i):\n",
    "    return (3 * i + 5) % 11\n",
    "\n",
    "\n",
    "for i in [12, 44, 13, 88, 23, 94, 11, 39, 20, 16, 5]:\n",
    "    print(f\"i = {i} -> h(i) = {h(i)}\")"
   ]
  },
  {
   "cell_type": "markdown",
   "id": "b86acfce",
   "metadata": {},
   "source": [
    "| 0 | 1 | 2 | 3 | 4 | 5 | 6 | 7 | 8 | 9 | 10| 11|\n",
    "|---|---|---|---|---|---|---|---|---|---|---|---|\n",
    "| 13 | 94, 39 |   |   | 44, 88, 11 |   |   |  | 12, 23 | 16, 5 | 20 | |"
   ]
  },
  {
   "cell_type": "markdown",
   "id": "6f480d8f",
   "metadata": {},
   "source": [
    "### R-10.10\n",
    "\n",
    "What is the result of the previous exercise, assuming collisions are handled by linear probing?"
   ]
  },
  {
   "cell_type": "markdown",
   "id": "9b8770ac",
   "metadata": {},
   "source": [
    "| 0 | 1 | 2 | 3 | 4 | 5 | 6 | 7 | 8 | 9 | 10| 11|\n",
    "|---|---|---|---|---|---|---|---|---|---|---|---|\n",
    "| 13 | 94 | 39  | 5  | 44 | 88  | 11  |  | 12 | 23 | 20 | 16 |"
   ]
  },
  {
   "cell_type": "markdown",
   "id": "e8e0c35d",
   "metadata": {},
   "source": [
    "## Problem 13.3\n",
    "\n",
    "Test the ChainHashMap class for hash tables of different types of key-value pairs and different sizes. See the Resources.zip file for an implementation of ChainHashMap and its superclasses."
   ]
  },
  {
   "cell_type": "code",
   "execution_count": 15,
   "id": "554e4326",
   "metadata": {},
   "outputs": [],
   "source": [
    "from resources.map_table import MapBase, UnsortedTableMap\n",
    "from random import randrange\n",
    "\n",
    "\n",
    "class HashMapBase(MapBase):\n",
    "    def __init__(self, cap=11, p=109345121):\n",
    "        self._table = cap * [None]\n",
    "        self._n = 0\n",
    "        self._prime = p\n",
    "        self._scale = 1 + randrange(p - 1)\n",
    "        self._shift = randrange(p)\n",
    "\n",
    "    def _hash_function(self, k):\n",
    "        return (hash(k) * self._scale + self._shift) % self._prime % len(self._table)\n",
    "\n",
    "    def __len__(self):\n",
    "        return self._n\n",
    "\n",
    "    def __getitem__(self, k):\n",
    "        j = self._hash_function(k)\n",
    "        return self._bucket_getitem(j, k)\n",
    "\n",
    "    def __setitem__(self, k, v):\n",
    "        j = self._hash_function(k)\n",
    "        self._bucket_setitem(j, k, v)\n",
    "        if self._n > len(self._table) // 2:\n",
    "            self._resize(2 * len(self._table) - 1)\n",
    "\n",
    "    def __delitem__(self, k):\n",
    "        j = self._hash_function(k)\n",
    "        self._bucket_delitem(j, k)\n",
    "        self._n -= 1\n",
    "\n",
    "    def _resize(self, c):\n",
    "        old = list(self.items())\n",
    "        self._table = c * [None]\n",
    "        self._n = 0\n",
    "        for k, v in old:\n",
    "            self[k] = v\n",
    "\n",
    "\n",
    "class ChainHashMap(HashMapBase):\n",
    "    def _bucket_getitem(self, j, k):\n",
    "        bucket = self._table[j]\n",
    "        if bucket is None:\n",
    "            raise KeyError(\"Key Error {0}\".format(k))\n",
    "        return bucket[k]\n",
    "\n",
    "    def _bucket_setitem(self, j, k, v):\n",
    "        if self._table[j] is None:\n",
    "            self._table[j] = UnsortedTableMap()\n",
    "        oldsize = len(self._table[j])\n",
    "        self._table[j][k] = v\n",
    "        if len(self._table[j]) > oldsize:\n",
    "            self._n += 1\n",
    "\n",
    "    def _bucket_delitem(self, j, k):\n",
    "        bucket = self._table[j]\n",
    "        if bucket is None:\n",
    "            raise KeyError(\"Key Error {0}\".format(k))\n",
    "        del bucket[k]\n",
    "\n",
    "    def __iter__(self):\n",
    "        for bucket in self._table:\n",
    "            if bucket is not None:\n",
    "                yield from bucket"
   ]
  },
  {
   "cell_type": "code",
   "execution_count": null,
   "id": "b5ad7066",
   "metadata": {},
   "outputs": [
    {
     "name": "stdout",
     "output_type": "stream",
     "text": [
      "Items in ChainHashMap:\n",
      "apple: 1\n",
      "banana: 2\n",
      "3: three\n",
      "(1, 2): tuple_key\n",
      "Length of ChainHashMap: 4\n",
      "After deleting 'banana': 3\n",
      "'banana' successfully deleted!\n",
      "Updated value for key 3: updated_three\n",
      "Updated value for key (1, 2): updated_tuple_key\n",
      "Final items in ChainHashMap:\n",
      "apple: 1\n",
      "3: updated_three\n",
      "(1, 2): updated_tuple_key\n"
     ]
    }
   ],
   "source": [
    "# Small Test for ChainHashMap with different types of key-value pairs and different sizes\n",
    "\n",
    "\n",
    "def test_chain_hash_map():\n",
    "    chm = ChainHashMap()\n",
    "    chm[\"apple\"] = 1\n",
    "    chm[\"banana\"] = 2\n",
    "    chm[3] = \"three\"\n",
    "    chm[(1, 2)] = \"tuple_key\"\n",
    "\n",
    "    print(\"Items in ChainHashMap:\")\n",
    "    for key in chm:\n",
    "        print(f\"{key}: {chm[key]}\")\n",
    "\n",
    "    print(\"Length of ChainHashMap:\", len(chm))\n",
    "\n",
    "    del chm[\"banana\"]\n",
    "    print(\"After deleting 'banana':\", len(chm))\n",
    "\n",
    "    try:\n",
    "        print(chm[\"banana\"])\n",
    "    except KeyError:\n",
    "        print(\"'banana' successfully deleted!\")\n",
    "    chm[3] = \"updated_three\"\n",
    "    print(\"Updated value for key 3:\", chm[3])\n",
    "    chm[(1, 2)] = \"updated_tuple_key\"\n",
    "\n",
    "    print(\"Updated value for key (1, 2):\", chm[(1, 2)])\n",
    "\n",
    "    print(\"Final items in ChainHashMap:\")\n",
    "    for key in chm:\n",
    "        print(f\"{key}: {chm[key]}\")\n",
    "\n",
    "\n",
    "test_chain_hash_map()"
   ]
  },
  {
   "cell_type": "markdown",
   "id": "7d5be809",
   "metadata": {},
   "source": [
    "## Problem 13.4\n",
    "\n",
    "Review the generic hash table implementation in Algorithm 5. Explain why attribute `_n` is updated in `delitem(self, k)` but not updated in `setitem(self, k, v)`."
   ]
  },
  {
   "cell_type": "code",
   "execution_count": 24,
   "id": "e4c428aa",
   "metadata": {},
   "outputs": [],
   "source": [
    "class HashMapBase(MapBase):\n",
    "    def __init__(self, cap=11, p=109345121):\n",
    "        self._table = cap * [None]\n",
    "        self._n = 0\n",
    "        self._prime = p\n",
    "        self._scale = 1 + randrange(p - 1)\n",
    "        self._shift = randrange(p)\n",
    "\n",
    "    def _hash_function(self, k):\n",
    "        return (hash(k) * self._scale + self._shift) % self._prime % len(self._table)\n",
    "\n",
    "    def __len__(self):\n",
    "        return self._n\n",
    "\n",
    "    def __getitem__(self, k):\n",
    "        j = self._hash_function(k)\n",
    "        return self._bucket_getitem(j, k)\n",
    "\n",
    "    def __setitem__(self, k, v):\n",
    "        j = self._hash_function(k)\n",
    "        self._bucket_setitem(j, k, v)\n",
    "        if self._n > len(self._table) // 2:\n",
    "            self._resize(2 * len(self._table) - 1)\n",
    "\n",
    "    def __delitem__(self, k):\n",
    "        j = self._hash_function(k)\n",
    "        self._bucket_delitem(j, k)\n",
    "        self._n -= 1\n",
    "\n",
    "    def _resize(self, c):\n",
    "        old = list(self.items())\n",
    "        self._table = c * [None]\n",
    "        self._n = 0\n",
    "        for k, v in old:\n",
    "            self[k] = v"
   ]
  },
  {
   "cell_type": "markdown",
   "id": "f3b920a7",
   "metadata": {},
   "source": [
    "`_n` is updated in delitem, because there the item gets removed every time, while in setitem the entry can be overwritten which would not increase the number of items in the hashtable."
   ]
  }
 ],
 "metadata": {
  "kernelspec": {
   "display_name": ".venv (3.12.8)",
   "language": "python",
   "name": "python3"
  },
  "language_info": {
   "codemirror_mode": {
    "name": "ipython",
    "version": 3
   },
   "file_extension": ".py",
   "mimetype": "text/x-python",
   "name": "python",
   "nbconvert_exporter": "python",
   "pygments_lexer": "ipython3",
   "version": "3.12.10"
  }
 },
 "nbformat": 4,
 "nbformat_minor": 5
}
