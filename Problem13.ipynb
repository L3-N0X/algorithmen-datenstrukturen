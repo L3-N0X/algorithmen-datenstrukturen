{
 "cells": [
  {
   "cell_type": "markdown",
   "id": "982220e2",
   "metadata": {},
   "source": [
    "# Problem 13\n",
    "\n",
    "## Problem 13.1\n",
    "\n",
    "### R-10.1\n",
    "\n",
    "Give a concrete implementation of the pop method in the context of the MutableMapping class, relying only on the five primary abstract methods of that class."
   ]
  },
  {
   "cell_type": "markdown",
   "id": "0100ab86",
   "metadata": {},
   "source": [
    "getitem , setitem , delitem , len , and iter are already there"
   ]
  },
  {
   "cell_type": "code",
   "execution_count": 2,
   "id": "f3598c19",
   "metadata": {},
   "outputs": [],
   "source": [
    "from collections.abc import MutableMapping\n",
    "\n",
    "\n",
    "class MapBase(MutableMapping):\n",
    "    class _Item:\n",
    "        __slots__ = \"_key\", \"_value\"\n",
    "\n",
    "        def __init__(self, k, v):\n",
    "            self._key = k\n",
    "            self._value = v\n",
    "\n",
    "        def __eq__(self, other):\n",
    "            return self._key == other._key\n",
    "\n",
    "        def __ne__(self, other):\n",
    "            return not (self == other)\n",
    "\n",
    "        def __lt__(self, other):\n",
    "            return self._key < other._key\n",
    "\n",
    "\n",
    "class UnsortedTableMap(MapBase):\n",
    "    def __init__(self):\n",
    "        self._table = []\n",
    "\n",
    "    def __getitem__(self, k):\n",
    "        for item in self._table:\n",
    "            if k == item._key:\n",
    "                return item._value\n",
    "        raise KeyError(\"Key Error {0}\".format(k))\n",
    "\n",
    "    def __setitem__(self, k, v):\n",
    "        for item in self._table:\n",
    "            if k == item._key:\n",
    "                item._value = v\n",
    "                return\n",
    "        self._table.append(self._Item(k, v))\n",
    "\n",
    "    def __delitem__(self, k):\n",
    "        for j in range(len(self._table)):\n",
    "            if k == self._table[j]._key:\n",
    "                self._table.pop(j)\n",
    "                return\n",
    "        raise KeyError(\"Key Error {0}\".format(k))\n",
    "\n",
    "    def __len__(self):\n",
    "        return len(self._table)\n",
    "\n",
    "    def __iter__(self):\n",
    "        for item in self._table:\n",
    "            yield item._key\n",
    "\n",
    "    def pop(self, key):\n",
    "        item = self[key]\n",
    "        del self[key]\n",
    "        return item"
   ]
  },
  {
   "cell_type": "code",
   "execution_count": 11,
   "id": "dd983b23",
   "metadata": {},
   "outputs": [
    {
     "name": "stdout",
     "output_type": "stream",
     "text": [
      "3\n",
      "2\n",
      "Deleted successfully!\n"
     ]
    }
   ],
   "source": [
    "tb = UnsortedTableMap()\n",
    "tb[\"one\"] = 1\n",
    "tb[\"two\"] = 2\n",
    "tb[\"three\"] = 3\n",
    "\n",
    "print(len(tb))\n",
    "\n",
    "tb.pop(\"two\")\n",
    "print(len(tb))\n",
    "try:\n",
    "    tb[\"two\"]\n",
    "except KeyError:\n",
    "    print(\"Deleted successfully!\")"
   ]
  },
  {
   "cell_type": "markdown",
   "id": "df6a985a",
   "metadata": {},
   "source": [
    "### R-10.3\n",
    "\n",
    "Give a concrete implementation of the `items( )` method directly within the `UnsortedTableMap` class, ensuring that the entire iteration runs in $O(n)$ time."
   ]
  },
  {
   "cell_type": "code",
   "execution_count": 14,
   "id": "5989c951",
   "metadata": {},
   "outputs": [],
   "source": [
    "class UnsortedTableMap2(MapBase):\n",
    "    def __init__(self):\n",
    "        self._table = []\n",
    "\n",
    "    def __getitem__(self, k):\n",
    "        for item in self._table:\n",
    "            if k == item._key:\n",
    "                return item._value\n",
    "        raise KeyError(\"Key Error {0}\".format(k))\n",
    "\n",
    "    def __setitem__(self, k, v):\n",
    "        for item in self._table:\n",
    "            if k == item._key:\n",
    "                item._value = v\n",
    "                return\n",
    "        self._table.append(self._Item(k, v))\n",
    "\n",
    "    def __delitem__(self, k):\n",
    "        for j in range(len(self._table)):\n",
    "            if k == self._table[j]._key:\n",
    "                self._table.pop(j)\n",
    "                return\n",
    "        raise KeyError(\"Key Error {0}\".format(k))\n",
    "\n",
    "    def __len__(self):\n",
    "        return len(self._table)\n",
    "\n",
    "    def __iter__(self):\n",
    "        for item in self._table:\n",
    "            yield item._key\n",
    "\n",
    "    def items(self):\n",
    "        items = []\n",
    "        for item in self._table:\n",
    "            items.append(item._value)"
   ]
  },
  {
   "cell_type": "code",
   "execution_count": 15,
   "id": "8df4d5e2",
   "metadata": {},
   "outputs": [
    {
     "name": "stdout",
     "output_type": "stream",
     "text": [
      "3\n",
      "3\n"
     ]
    }
   ],
   "source": [
    "tb = UnsortedTableMap2()\n",
    "tb[\"one\"] = 1\n",
    "tb[\"two\"] = 2\n",
    "tb[\"three\"] = 3\n",
    "\n",
    "print(len(tb))\n",
    "\n",
    "tb.items\n",
    "print(len(tb))\n",
    "try:\n",
    "    tb[\"two\"]\n",
    "except KeyError:\n",
    "    print(\"Deleted successfully!\")"
   ]
  }
 ],
 "metadata": {
  "kernelspec": {
   "display_name": ".venv (3.12.8)",
   "language": "python",
   "name": "python3"
  },
  "language_info": {
   "codemirror_mode": {
    "name": "ipython",
    "version": 3
   },
   "file_extension": ".py",
   "mimetype": "text/x-python",
   "name": "python",
   "nbconvert_exporter": "python",
   "pygments_lexer": "ipython3",
   "version": "3.12.10"
  }
 },
 "nbformat": 4,
 "nbformat_minor": 5
}
