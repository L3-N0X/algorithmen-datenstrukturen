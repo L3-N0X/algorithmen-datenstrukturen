{
 "cells": [
  {
   "cell_type": "markdown",
   "metadata": {},
   "source": [
    "### Problem 7.1"
   ]
  },
  {
   "cell_type": "code",
   "execution_count": 31,
   "metadata": {},
   "outputs": [
    {
     "name": "stdout",
     "output_type": "stream",
     "text": [
      "[(0, 0), 'fill y', (0, 986), 'x <- y', (418, 568), 'empty x', (0, 568), 'x <- y', (418, 150), 'empty x', (0, 150), 'x <- y', (150, 0), 'fill y', (150, 986), 'x <- y', (418, 718), 'empty x', (0, 718), 'x <- y', (418, 300), 'empty x', (0, 300), 'x <- y', (300, 0), 'fill y', (300, 986), 'x <- y', (418, 868), 'empty x', (0, 868), 'x <- y', (418, 450), 'empty x', (0, 450), 'x <- y', (418, 32), 'empty x', (0, 32), 'x <- y', (32, 0), 'fill y', (32, 986), 'x <- y', (418, 600), 'empty x', (0, 600), 'x <- y', (418, 182), 'empty x', (0, 182), 'x <- y', (182, 0), 'fill y', (182, 986), 'x <- y', (418, 750), 'empty x', (0, 750), 'x <- y', (418, 332), 'empty x', (0, 332), 'x <- y', (332, 0), 'fill y', (332, 986), 'x <- y', (418, 900), 'empty x', (0, 900), 'x <- y', (418, 482), 'empty x', (0, 482), 'x <- y', (418, 64), 'empty x', (0, 64), 'x <- y', (64, 0), 'fill y', (64, 986), 'x <- y', (418, 632), 'empty x', (0, 632), 'x <- y', (418, 214), 'empty x', (0, 214), 'x <- y', (214, 0), 'fill y', (214, 986), 'x <- y', (418, 782), 'empty x', (0, 782), 'x <- y', (418, 364), 'empty x', (0, 364), 'x <- y', (364, 0), 'fill y', (364, 986), 'x <- y', (418, 932), 'empty x', (0, 932), 'x <- y', (418, 514), 'empty x', (0, 514), 'x <- y', (418, 96), 'empty x', (0, 96), 'x <- y', (96, 0), 'fill y', (96, 986), 'x <- y', (418, 664), 'empty x', (0, 664), 'x <- y', (418, 246), 'empty x', (0, 246), 'x <- y', (246, 0), 'fill y', (246, 986), 'x <- y', (418, 814), 'empty x', (0, 814), 'x <- y', (418, 396), 'empty x', (0, 396), 'x <- y', (396, 0), 'fill y', (396, 986), 'x <- y', (418, 964), 'empty x', (0, 964), 'x <- y', (418, 546), 'empty x', (0, 546), 'x <- y', (418, 128), 'empty x', (0, 128), 'x <- y', (128, 0), 'fill y', (128, 986), 'x <- y', (418, 696), 'empty x', (0, 696), 'x <- y', (418, 278), 'empty x', (0, 278), 'x <- y', (278, 0), 'fill y', (278, 986), 'x <- y', (418, 846), 'empty x', (0, 846), 'x <- y', (418, 428), 'empty x', (0, 428), 'x <- y', (418, 10), 'empty x', (0, 10), 'x <- y', (10, 0), 'fill y', (10, 986), 'x <- y', (418, 578), 'empty x', (0, 578), 'x <- y', (418, 160), 'empty x', (0, 160), 'x <- y', (160, 0), 'fill y', (160, 986), 'x <- y', (418, 728), 'empty x', (0, 728), 'x <- y', (418, 310), 'empty x', (0, 310), 'x <- y', (310, 0), 'fill y', (310, 986), 'x <- y', (418, 878), 'empty x', (0, 878), 'x <- y', (418, 460), 'empty x', (0, 460), 'x <- y', (418, 42), 'empty x', (0, 42), 'x <- y', (42, 0), 'fill y', (42, 986), 'x <- y', (418, 610), 'empty x', (0, 610), 'x <- y', (418, 192), 'empty x', (0, 192), 'x <- y', (192, 0), 'fill y', (192, 986), 'x <- y', (418, 760), 'empty x', (0, 760), 'x <- y', (418, 342), 'empty x', (0, 342), 'x <- y', (342, 0), 'fill y', (342, 986), 'x <- y', (418, 910), 'empty x', (0, 910), 'x <- y', (418, 492), 'empty x', (0, 492), 'x <- y', (418, 74), 'empty x', (0, 74), 'x <- y', (74, 0), 'fill y', (74, 986), 'x <- y', (418, 642), 'empty x', (0, 642), 'x <- y', (418, 224), 'empty x', (0, 224), 'x <- y', (224, 0), 'fill y', (224, 986), 'x <- y', (418, 792), 'empty x', (0, 792), 'x <- y', (418, 374), 'empty x', (0, 374), 'x <- y', (374, 0), 'fill y', (374, 986), 'x <- y', (418, 942), 'empty x', (0, 942), 'x <- y', (418, 524), 'empty x', (0, 524), 'x <- y', (418, 106), 'empty x', (0, 106), 'x <- y', (106, 0), 'fill y', (106, 986), 'x <- y', (418, 674), 'empty x', (0, 674), 'x <- y', (418, 256), 'empty x', (0, 256), 'x <- y', (256, 0), 'fill y', (256, 986), 'x <- y', (418, 824), 'empty x', (0, 824), 'x <- y', (418, 406), 'empty x', (0, 406), 'x <- y', (406, 0), 'fill y', (406, 986), 'x <- y', (418, 974), 'empty x', (0, 974), 'x <- y', (418, 556), 'empty x', (0, 556), 'x <- y', (418, 138), 'empty x', (0, 138), 'x <- y', (138, 0), 'fill y', (138, 986), 'x <- y', (418, 706), 'empty x', (0, 706), 'x <- y', (418, 288), 'empty x', (0, 288), 'x <- y', (288, 0), 'fill y', (288, 986), 'x <- y', (418, 856), 'empty x', (0, 856), 'x <- y', (418, 438), 'empty x', (0, 438), 'x <- y', (418, 20), 'empty x', (0, 20), 'x <- y', (20, 0), 'fill y', (20, 986), 'x <- y', (418, 588), 'empty x', (0, 588), 'x <- y', (418, 170), 'empty x', (0, 170), 'x <- y', (170, 0), 'fill y', (170, 986), 'x <- y', (418, 738), 'empty x', (0, 738), 'x <- y', (418, 320), 'empty x', (0, 320), 'x <- y', (320, 0), 'fill y', (320, 986), 'x <- y', (418, 888), 'empty x', (0, 888), 'x <- y', (418, 470), 'empty x', (0, 470), 'x <- y', (418, 52), 'empty x', (0, 52), 'x <- y', (52, 0), 'fill y', (52, 986), 'x <- y', (418, 620), 'empty x', (0, 620), 'x <- y', (418, 202), 'empty x', (0, 202), 'x <- y', (202, 0), 'fill y', (202, 986), 'x <- y', (418, 770), 'empty x', (0, 770), 'x <- y', (418, 352), 'empty x', (0, 352), 'x <- y', (352, 0), 'fill y', (352, 986), 'x <- y', (418, 920), 'empty x', (0, 920), 'x <- y', (418, 502), 'empty x', (0, 502), 'x <- y', (418, 84), 'empty x', (0, 84), 'x <- y', (84, 0), 'fill y', (84, 986), 'x <- y', (418, 652), 'empty x', (0, 652), 'x <- y', (418, 234), 'empty x', (0, 234), 'x <- y', (234, 0), 'fill y', (234, 986), 'x <- y', (418, 802), 'empty x', (0, 802), 'x <- y', (418, 384), 'empty x', (0, 384), 'x <- y', (384, 0), 'fill y', (384, 986), 'x <- y', (418, 952), 'empty x', (0, 952), 'x <- y', (418, 534), 'empty x', (0, 534), 'x <- y', (418, 116), 'empty x', (0, 116), 'x <- y', (116, 0), 'fill y', (116, 986), 'x <- y', (418, 684), 'empty x', (0, 684), 'x <- y', (418, 266), 'empty x', (0, 266), 'x <- y', (266, 0), 'fill y', (266, 986), 'x <- y', (418, 834), 'empty x', (0, 834), 'x <- y', (418, 416), 'empty x', (0, 416), 'x <- y', (416, 0), 'fill y', (416, 986), 'x <- y', (418, 984), 'empty x', (0, 984), 'x <- y', (418, 566), 'empty x', (0, 566), 'x <- y', (418, 148), 'empty x', (0, 148), 'x <- y', (148, 0), 'fill y', (148, 986), 'x <- y', (418, 716), 'empty x', (0, 716), 'x <- y', (418, 298), 'empty x', (0, 298), 'x <- y', (298, 0), 'fill y', (298, 986), 'x <- y', (418, 866), 'empty x', (0, 866), 'x <- y', (418, 448), 'empty x', (0, 448), 'x <- y', (418, 30), 'empty x', (0, 30), 'x <- y', (30, 0), 'fill y', (30, 986), 'x <- y', (418, 598), 'empty x', (0, 598), 'x <- y', (418, 180), 'empty x', (0, 180), 'x <- y', (180, 0), 'fill y', (180, 986), 'x <- y', (418, 748), 'empty x', (0, 748), 'x <- y', (418, 330), 'empty x', (0, 330), 'x <- y', (330, 0), 'fill y', (330, 986), 'x <- y', (418, 898), 'empty x', (0, 898), 'x <- y', (418, 480), 'empty x', (0, 480), 'x <- y', (418, 62), 'empty x', (0, 62), 'x <- y', (62, 0), 'fill y', (62, 986), 'x <- y', (418, 630), 'empty x', (0, 630), 'x <- y', (418, 212), 'empty x', (0, 212), 'x <- y', (212, 0), 'fill y', (212, 986), 'x <- y', (418, 780), 'empty x', (0, 780), 'x <- y', (418, 362), 'empty x', (0, 362), 'x <- y', (362, 0), 'fill y', (362, 986), 'x <- y', (418, 930), 'empty x', (0, 930), 'x <- y', (418, 512), 'empty x', (0, 512), 'x <- y', (418, 94), 'empty x', (0, 94), 'x <- y', (94, 0), 'fill y', (94, 986), 'x <- y', (418, 662), 'empty x', (0, 662), 'x <- y', (418, 244), 'empty x', (0, 244), 'x <- y', (244, 0), 'fill y', (244, 986), 'x <- y', (418, 812), 'empty x', (0, 812), 'x <- y', (418, 394), 'empty x', (0, 394), 'x <- y', (394, 0), 'fill y', (394, 986), 'x <- y', (418, 962), 'empty x', (0, 962), 'x <- y', (418, 544), 'empty x', (0, 544), 'x <- y', (418, 126), 'empty x', (0, 126), 'x <- y', (126, 0), 'fill y', (126, 986), 'x <- y', (418, 694), 'empty x', (0, 694), 'x <- y', (418, 276), 'empty x', (0, 276), 'x <- y', (276, 0), 'fill y', (276, 986), 'x <- y', (418, 844), 'empty x', (0, 844), 'x <- y', (418, 426), 'empty x', (0, 426), 'x <- y', (418, 8), 'empty x', (0, 8), 'x <- y', (8, 0), 'fill y', (8, 986), 'x <- y', (418, 576), 'empty x', (0, 576), 'x <- y', (418, 158), 'empty x', (0, 158), 'x <- y', (158, 0), 'fill y', (158, 986), 'x <- y', (418, 726), 'empty x', (0, 726), 'x <- y', (418, 308), 'empty x', (0, 308), 'x <- y', (308, 0), 'fill y', (308, 986), 'x <- y', (418, 876), 'empty x', (0, 876), 'x <- y', (418, 458), 'empty x', (0, 458), 'x <- y', (418, 40), 'empty x', (0, 40), 'x <- y', (40, 0), 'fill y', (40, 986), 'x <- y', (418, 608), 'empty x', (0, 608), 'x <- y', (418, 190), 'empty x', (0, 190), 'x <- y', (190, 0), 'fill y', (190, 986), 'x <- y', (418, 758), 'empty x', (0, 758), 'x <- y', (418, 340), 'empty x', (0, 340), 'x <- y', (340, 0), 'fill y', (340, 986), 'x <- y', (418, 908), 'empty x', (0, 908), 'x <- y', (418, 490), 'empty x', (0, 490), 'x <- y', (418, 72), 'empty x', (0, 72), 'x <- y', (72, 0), 'fill y', (72, 986), 'x <- y', (418, 640), 'empty x', (0, 640), 'x <- y', (418, 222), 'empty x', (0, 222), 'x <- y', (222, 0), 'fill y', (222, 986), 'x <- y', (418, 790), 'empty x', (0, 790), 'x <- y', (418, 372), 'empty x', (0, 372), 'x <- y', (372, 0), 'fill y', (372, 986), 'x <- y', (418, 940), 'empty x', (0, 940), 'x <- y', (418, 522), 'empty x', (0, 522), 'x <- y', (418, 104), 'empty x', (0, 104), 'x <- y', (104, 0), 'fill y', (104, 986), 'x <- y', (418, 672), 'empty x', (0, 672), 'x <- y', (418, 254), 'empty x', (0, 254), 'x <- y', (254, 0), 'fill y', (254, 986), 'x <- y', (418, 822), 'empty x', (0, 822), 'x <- y', (418, 404), 'empty x', (0, 404), 'x <- y', (404, 0), 'fill y', (404, 986), 'x <- y', (418, 972), 'empty x', (0, 972), 'x <- y', (418, 554), 'empty x', (0, 554), 'x <- y', (418, 136), 'empty x', (0, 136), 'x <- y', (136, 0), 'fill y', (136, 986), 'x <- y', (418, 704), 'empty x', (0, 704), 'x <- y', (418, 286), 'empty x', (0, 286), 'x <- y', (286, 0), 'fill y', (286, 986), 'x <- y', (418, 854), 'empty x', (0, 854), 'x <- y', (418, 436), 'empty x', (0, 436), 'x <- y', (418, 18), 'empty x', (0, 18), 'x <- y', (18, 0), 'fill y', (18, 986), 'x <- y', (418, 586), 'empty x', (0, 586), 'x <- y', (418, 168), 'empty x', (0, 168), 'x <- y', (168, 0), 'fill y', (168, 986), 'x <- y', (418, 736), 'empty x', (0, 736), 'x <- y', (418, 318), 'empty x', (0, 318), 'x <- y', (318, 0), 'fill y', (318, 986), 'x <- y', (418, 886), 'empty x', (0, 886), 'x <- y', (418, 468), 'empty x', (0, 468), 'x <- y', (418, 50), 'empty x', (0, 50), 'x <- y', (50, 0), 'fill y', (50, 986), 'x <- y', (418, 618), 'empty x', (0, 618), 'x <- y', (418, 200), 'empty x', (0, 200), 'x <- y', (200, 0), 'fill y', (200, 986), 'x <- y', (418, 768), 'empty x', (0, 768), 'x <- y', (418, 350), 'empty x', (0, 350), 'x <- y', (350, 0), 'fill y', (350, 986), 'x <- y', (418, 918), 'empty x', (0, 918), 'x <- y', (418, 500), 'empty x', (0, 500), 'x <- y', (418, 82), 'empty x', (0, 82), 'x <- y', (82, 0), 'fill y', (82, 986), 'x <- y', (418, 650), 'empty x', (0, 650), 'x <- y', (418, 232), 'empty x', (0, 232), 'x <- y', (232, 0), 'fill y', (232, 986), 'x <- y', (418, 800), 'empty x', (0, 800), 'x <- y', (418, 382), 'empty x', (0, 382), 'x <- y', (382, 0), 'fill y', (382, 986), 'x <- y', (418, 950), 'empty x', (0, 950), 'x <- y', (418, 532), 'empty x', (0, 532), 'x <- y', (418, 114), 'empty x', (0, 114), 'x <- y', (114, 0), 'fill y', (114, 986), 'x <- y', (418, 682), 'empty x', (0, 682), 'x <- y', (418, 264), 'empty x', (0, 264), 'x <- y', (264, 0), 'fill y', (264, 986), 'x <- y', (418, 832), 'empty x', (0, 832), 'x <- y', (418, 414), 'empty x', (0, 414), 'x <- y', (414, 0), 'fill y', (414, 986), 'x <- y', (418, 982), 'empty x', (0, 982), 'x <- y', (418, 564), 'empty x', (0, 564), 'x <- y', (418, 146), 'empty x', (0, 146), 'x <- y', (146, 0), 'fill y', (146, 986), 'x <- y', (418, 714), 'empty x', (0, 714), 'x <- y', (418, 296), 'empty x', (0, 296), 'x <- y', (296, 0), 'fill y', (296, 986), 'x <- y', (418, 864), 'empty x', (0, 864), 'x <- y', (418, 446), 'empty x', (0, 446), 'x <- y', (418, 28), 'empty x', (0, 28), 'x <- y', (28, 0), 'fill y', (28, 986), 'x <- y', (418, 596), 'empty x', (0, 596), 'x <- y', (418, 178), 'empty x', (0, 178), 'x <- y', (178, 0), 'fill y', (178, 986), 'x <- y', (418, 746), 'empty x', (0, 746), 'x <- y', (418, 328), 'empty x', (0, 328), 'x <- y', (328, 0), 'fill y', (328, 986), 'x <- y', (418, 896), 'empty x', (0, 896), 'x <- y', (418, 478), 'empty x', (0, 478), 'x <- y', (418, 60), 'empty x', (0, 60), 'x <- y', (60, 0), 'fill y', (60, 986), 'x <- y', (418, 628), 'empty x', (0, 628), 'x <- y', (418, 210), 'empty x', (0, 210), 'x <- y', (210, 0), 'fill y', (210, 986), 'x <- y', (418, 778), 'empty x', (0, 778), 'x <- y', (418, 360), 'empty x', (0, 360), 'x <- y', (360, 0), 'fill y', (360, 986), 'x <- y', (418, 928), 'empty x', (0, 928), 'x <- y', (418, 510), 'empty x', (0, 510), 'x <- y', (418, 92), 'empty x', (0, 92), 'x <- y', (92, 0), 'fill y', (92, 986), 'x <- y', (418, 660), 'empty x', (0, 660), 'x <- y', (418, 242), 'empty x', (0, 242), 'x <- y', (242, 0), 'fill y', (242, 986), 'x <- y', (418, 810), 'empty x', (0, 810), 'x <- y', (418, 392), 'empty x', (0, 392), 'x <- y', (392, 0), 'fill y', (392, 986), 'x <- y', (418, 960), 'empty x', (0, 960), 'x <- y', (418, 542), 'empty x', (0, 542), 'x <- y', (418, 124), 'empty x', (0, 124), 'x <- y', (124, 0), 'fill y', (124, 986), 'x <- y', (418, 692), 'empty x', (0, 692), 'x <- y', (418, 274), 'empty x', (0, 274), 'x <- y', (274, 0), 'fill y', (274, 986), 'x <- y', (418, 842), 'empty x', (0, 842), 'x <- y', (418, 424), 'empty x', (0, 424), 'x <- y', (418, 6), 'empty x', (0, 6), 'x <- y', (6, 0)]\n",
      "618 transitions \n"
     ]
    }
   ],
   "source": [
    "from resources.shortest_path import shortest_path_search\n",
    "\n",
    "def successors(X,Y):\n",
    "    def sc(state):\n",
    "        x, y= state\n",
    "        assert x <= X and  y <= Y\n",
    "        return {(0, y+x) if y+x <= Y else (x-(Y-y), Y): 'x -> y',\n",
    "                (x+y, 0) if x+y <= X else (X, y-(X-x)): 'x <- y',\n",
    "                (X, y): 'fill x',\n",
    "                (x, Y): 'fill y',\n",
    "                (0, y): 'empty x',\n",
    "                (x, 0): 'empty y'}\n",
    "    return sc\n",
    "\n",
    "if __name__ == '__main__':\n",
    "    X = 418\n",
    "    Y = 986\n",
    "    initial = (0, 0)\n",
    "    goal = (6, 0)\n",
    "    res = shortest_path_search(initial, successors(X,Y), lambda state: state == goal)\n",
    "    print(res)\n",
    "    print('%s transitions ' % (int(len(res) / 2)))\n"
   ]
  },
  {
   "cell_type": "markdown",
   "metadata": {},
   "source": [
    "### Problem 7.2\n",
    "\n",
    "Three missionaries and three cannibals are on one side of a river, along with a boat that can hold one or two people. Find the minimum number of actions to get everyone to the other side, without ever leaving a group of missionaries in one place outnumbered by the cannibals in that place. Re-use the shortest path algorithm presented in class for solving this problem. Also, itertools.combinations with replacement may be helpful when implementing your successors function."
   ]
  },
  {
   "cell_type": "code",
   "execution_count": 6,
   "metadata": {},
   "outputs": [
    {
     "name": "stdout",
     "output_type": "stream",
     "text": [
      "[(3, 3, 0), (1, 1), (2, 2, 1), (1, 0), (3, 2, 0), (0, 2), (3, 0, 1), (0, 1), (3, 1, 0), (2, 0), (1, 1, 1), (1, 1), (2, 2, 0), (2, 0), (0, 2, 1), (0, 1), (0, 3, 0), (0, 2), (0, 1, 1), (1, 0), (1, 1, 0), (1, 1), (0, 0, 1)]\n",
      "11 transitions\n"
     ]
    }
   ],
   "source": [
    "from resources.shortest_path import shortest_path_search\n",
    "\n",
    "def successors2(state):\n",
    "    missionaries, cannibals, boat = state\n",
    "    boat_moves = [(1, 0), (0, 1), (1, 1), (2, 0), (0, 2)]  # Valid boat moves\n",
    "    possible_moves = {}\n",
    "\n",
    "    for x, y in boat_moves:\n",
    "        if boat == 0:  #  Boat is on the starting side\n",
    "            new_state = (missionaries - x, cannibals - y, 1)\n",
    "        else:  # Boat is on the other side\n",
    "            new_state = (missionaries + x, cannibals + y, 0)\n",
    "\n",
    "        m, c, b = new_state\n",
    "        other_m, other_c = 3 - m, 3 - c  # Other side of the river\n",
    "\n",
    "        # Check if the new state is valid\n",
    "        if (\n",
    "            0 <= m <= 3\n",
    "            and 0 <= c <= 3\n",
    "            and (m == 0 or m >= c)  # No more cannibals than missionaries on this side\n",
    "            and (other_m == 0 or other_m >= other_c)\n",
    "        ):  # No more cannibals than missionaries on the other side\n",
    "            possible_moves[new_state] = (x, y)\n",
    "            \n",
    "    return possible_moves\n",
    "\n",
    "\n",
    "if __name__ == \"__main__\":\n",
    "    initial2 = (3, 3, 0)  # 3 missionaries, 3 cannibals, boat 0\n",
    "    goal2 = (0, 0, 1)  # 0 missionaries, 0 cannibals, boat 1\n",
    "    res = shortest_path_search(initial2, successors2, lambda state: state == goal2)\n",
    "    if res:\n",
    "        print(res)\n",
    "        print(f\"{len(res) // 2} transitions\")\n",
    "    else:\n",
    "        print(\"No solution found.\")"
   ]
  }
 ],
 "metadata": {
  "kernelspec": {
   "display_name": ".venv (3.12.8)",
   "language": "python",
   "name": "python3"
  },
  "language_info": {
   "codemirror_mode": {
    "name": "ipython",
    "version": 3
   },
   "file_extension": ".py",
   "mimetype": "text/x-python",
   "name": "python",
   "nbconvert_exporter": "python",
   "pygments_lexer": "ipython3",
   "version": "3.12.8"
  }
 },
 "nbformat": 4,
 "nbformat_minor": 2
}
