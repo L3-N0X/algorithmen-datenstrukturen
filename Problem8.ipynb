{
 "cells": [
  {
   "cell_type": "markdown",
   "id": "60609ca3",
   "metadata": {},
   "source": [
    "# Coursework - Part 8\n"
   ]
  },
  {
   "cell_type": "markdown",
   "id": "ff416144",
   "metadata": {},
   "source": [
    "### R-3.2\n",
    "\n",
    "The number of operations executed by algorithms A and B is 8n log n and 2n^2 , respectively. Determine n0 such that A is better than B for n ≥ n0 .\n"
   ]
  },
  {
   "cell_type": "markdown",
   "id": "02a07c6c",
   "metadata": {},
   "source": [
    "$A = 8n * log(n)$\\\n",
    "$B = 2n^2$\\\n",
    "$A < B$\\\n",
    "$8n \\log_2(n) < 2n^2$\\\n",
    "$4 \\log_2(n) < n$\\\n",
    "$\\log_2(n) < n/4$\\\n",
    "$0 = n_0/4 - \\log(n_0)$\\\n",
    "-> $n_0 = 16$\n"
   ]
  },
  {
   "cell_type": "markdown",
   "id": "bf3b64a0",
   "metadata": {},
   "source": [
    "### R-3.3\n",
    "\n",
    "The number of operations executed by algorithms A and B is 40n2 and 2n3 , respectively. Determine n0 such that A is better than B for n ≥ n0 .\n"
   ]
  },
  {
   "cell_type": "markdown",
   "id": "5ea83b35",
   "metadata": {},
   "source": [
    "$A = 40n^2$\\\n",
    "$B = 2n^3$\\\n",
    "$A < B$\\\n",
    "$40n^2 < 2n^3$\\\n",
    "$20 < n$\\\n",
    "-> $n_0 = 20$\n"
   ]
  },
  {
   "cell_type": "markdown",
   "id": "2acd4e56",
   "metadata": {},
   "source": [
    "### R-3.8\n",
    "\n",
    "Order the following functions by asymptotic growth rate:\n"
   ]
  },
  {
   "cell_type": "markdown",
   "id": "44734361",
   "metadata": {
    "tags": [
     "Test"
    ],
    "vscode": {
     "languageId": "latex"
    }
   },
   "source": [
    "$4 n \\log(n) + 2n $\\\n",
    "$2^{10} $\\\n",
    "$2^{\\log(n) }$\\\n",
    "$3n + 100 \\log(n) $\\\n",
    "$4n$\\\n",
    "$2^n$\\\n",
    "$n^2 + 10n$\\\n",
    "$n^3$\\\n",
    "$n \\log(n)$\n"
   ]
  },
  {
   "cell_type": "markdown",
   "id": "6c17f998",
   "metadata": {},
   "source": [
    "$2^n$\\\n",
    "$2^{\\log(n) }$\\\n",
    "$n^3$\\\n",
    "$n^2 + 10n$\\\n",
    "$4 n \\log(n) + 2n $\\\n",
    "$n \\log(n)$\\\n",
    "$3n + 100 \\log(n) $\\\n",
    "$4n$\\\n",
    "$2^{10} $\n"
   ]
  },
  {
   "cell_type": "markdown",
   "id": "94864f83",
   "metadata": {},
   "source": [
    "### R-3.17\n",
    "\n",
    "Show that $(n + 1)^5$ is $O(n^5)$.\n"
   ]
  },
  {
   "cell_type": "markdown",
   "id": "c5521213",
   "metadata": {},
   "source": [
    "$(n+1)^5 = n^5 + 1^5 = n^5 + 1$ -> $O(n^5)$\n"
   ]
  },
  {
   "cell_type": "markdown",
   "id": "4dc5e3fc",
   "metadata": {},
   "source": [
    "### R-3.18\n",
    "\n",
    "Show that $2^{n+1}$ is $O(2^n)$.\n"
   ]
  },
  {
   "cell_type": "markdown",
   "id": "9c95ea5f",
   "metadata": {},
   "source": [
    "$2^{n+1} = 2^n + 2^1 = 2^n + 2 \\to O(2^n)$\n"
   ]
  },
  {
   "cell_type": "markdown",
   "id": "616483d6",
   "metadata": {},
   "source": [
    "### R-3.21\n",
    "\n",
    "Show that $n^2$ is $\\Omega(n \\log(n))$\n"
   ]
  },
  {
   "cell_type": "markdown",
   "id": "dc8a8101",
   "metadata": {},
   "source": [
    "$n^2 = n * n \\to n \\geq log(n) \\quad\\to O(n \\log(n)$\n"
   ]
  },
  {
   "cell_type": "markdown",
   "id": "2f981dc2",
   "metadata": {},
   "source": [
    "### R-3.23 - R-3.27\n",
    "\n",
    "Give a big-Oh characterization, in terms of $n$, of the running time of the functions `example1`, `example2`, `example3`, `example4`, `example5`\n"
   ]
  },
  {
   "cell_type": "code",
   "execution_count": 1,
   "id": "a855defe",
   "metadata": {},
   "outputs": [],
   "source": [
    "def example1(S):\n",
    "    \"\"\"Return the sum of the elements in sequence S.\"\"\"\n",
    "    n = len(S)\n",
    "    total = 0\n",
    "    for j in range(n):  # loop from 0 to n-1\n",
    "        total += S[j]\n",
    "    return total"
   ]
  },
  {
   "cell_type": "markdown",
   "id": "b5f4122a",
   "metadata": {},
   "source": [
    "$O(n)$\n"
   ]
  },
  {
   "cell_type": "code",
   "execution_count": null,
   "id": "bb5a128b",
   "metadata": {},
   "outputs": [],
   "source": [
    "def example2(S):\n",
    "    n = len(S)\n",
    "    total = 0\n",
    "    for j in range(0, n, 2):\n",
    "        total += S[j]\n",
    "    return total"
   ]
  },
  {
   "cell_type": "markdown",
   "id": "837b075f",
   "metadata": {},
   "source": [
    "$O(n)$\n"
   ]
  },
  {
   "cell_type": "code",
   "execution_count": 4,
   "id": "8f34619e",
   "metadata": {},
   "outputs": [],
   "source": [
    "def example3(S):\n",
    "    n = len(S)\n",
    "    total = 0\n",
    "    for j in range(n):\n",
    "        for k in range(1 + j):\n",
    "            total += S[k]\n",
    "    return total"
   ]
  },
  {
   "cell_type": "markdown",
   "id": "2225ff64",
   "metadata": {},
   "source": [
    "$O(n^2)$\n"
   ]
  },
  {
   "cell_type": "code",
   "execution_count": null,
   "id": "38b44865",
   "metadata": {},
   "outputs": [],
   "source": [
    "def example4(S):\n",
    "    \"\"\"return the sum of the elements in sequence S.\"\"\"\n",
    "    n = len(S)\n",
    "    total = 0\n",
    "    for j in range(n):\n",
    "        prefix = S[j]\n",
    "        total += prefix\n",
    "    return total"
   ]
  },
  {
   "cell_type": "markdown",
   "id": "1fef576a",
   "metadata": {},
   "source": [
    "$O(n)$"
   ]
  },
  {
   "cell_type": "code",
   "execution_count": 6,
   "id": "22af31bb",
   "metadata": {},
   "outputs": [],
   "source": [
    "def example5(A, B):\n",
    "    \"\"\"return the sum of elements in B equal to the sum of prefix sums in A.\"\"\"\n",
    "    n = len(A)\n",
    "    count = 0\n",
    "    for i in range(n):\n",
    "        total = 0\n",
    "        for j in range(n):\n",
    "            for k in range(1 + j):\n",
    "                total += A[k]\n",
    "            if B[i] == total:\n",
    "                count += 1\n",
    "    return count"
   ]
  },
  {
   "cell_type": "markdown",
   "id": "8e649749",
   "metadata": {},
   "source": [
    "$O(n^3)$"
   ]
  },
  {
   "cell_type": "markdown",
   "id": "c42cff91",
   "metadata": {},
   "source": [
    "### C-3.36\n",
    "Describe an efficient algorithm for finding the ten largest elements in a sequence of size n. What is the running time of your algorithm?"
   ]
  },
  {
   "cell_type": "markdown",
   "id": "8c489f3f",
   "metadata": {},
   "source": [
    "*Go trough the sequence and find the largest element. Remove it from the sequence and repeat this process until you have 10 elements.*"
   ]
  },
  {
   "cell_type": "markdown",
   "id": "7b9cdf03",
   "metadata": {},
   "source": [
    "## 8.2\n",
    "Show that $\\sum_{i=1}^{n} i = \\frac{n(n+1)}{2}$ and $\\frac{n(n+1)}{2}$ is $O(n^2)$."
   ]
  },
  {
   "cell_type": "markdown",
   "id": "bc4fe4d9",
   "metadata": {},
   "source": [
    "$\\sum^n_{i=1} i = \\frac{n(n+1)}{2} = \\frac{n^2 + n}{2} = O(n^2)$"
   ]
  },
  {
   "cell_type": "markdown",
   "id": "b2783f06",
   "metadata": {},
   "source": [
    "## 8.3\n",
    "### R-3.1\n",
    "Graph the functions 8n, 4n log n, 2n2 , n3 , and 2n using a logarithmic scale for the x- and y-axes; that is, if the function value f (n) is y, plot this as a point with x-coordinate at logn and y-coordinate at logy."
   ]
  },
  {
   "cell_type": "code",
   "execution_count": 11,
   "id": "bb04f53a",
   "metadata": {},
   "outputs": [
    {
     "data": {
      "text/plain": [
       "<matplotlib.legend.Legend at 0x17ee690f0b0>"
      ]
     },
     "execution_count": 11,
     "metadata": {},
     "output_type": "execute_result"
    },
    {
     "data": {
      "image/png": "[encoded data removed]",
      "text/plain": [
       "<Figure size 640x480 with 1 Axes>"
      ]
     },
     "metadata": {},
     "output_type": "display_data"
    }
   ],
   "source": [
    "import matplotlib.pyplot as plt\n",
    "import numpy as np\n",
    "\n",
    "n = np.arange(1.1, 20, 1)\n",
    "y1 = 8 * n\n",
    "y2 = 4 * n * np.log(n)\n",
    "y3 = 2 * n**2\n",
    "y4 = n**3\n",
    "y5 = 2**n\n",
    "\n",
    "plt.plot(n, y1, label=\"8n\")\n",
    "plt.plot(n, y2, label=\"4n log n\")\n",
    "plt.plot(n, y3, label=\"2n^2\")\n",
    "plt.plot(n, y4, label=\"n^3\")\n",
    "plt.plot(n, y5, label=\"2^n\")\n",
    "plt.xscale(\"log\")\n",
    "plt.yscale(\"log\")\n",
    "plt.xlabel(\"n\")\n",
    "plt.ylabel(\"f(n)\")\n",
    "plt.title(\"Growth of Functions\")\n",
    "plt.legend()"
   ]
  }
 ],
 "metadata": {
  "kernelspec": {
   "display_name": ".venv (3.12.10)",
   "language": "python",
   "name": "python3"
  },
  "language_info": {
   "codemirror_mode": {
    "name": "ipython",
    "version": 3
   },
   "file_extension": ".py",
   "mimetype": "text/x-python",
   "name": "python",
   "nbconvert_exporter": "python",
   "pygments_lexer": "ipython3",
   "version": "3.12.10"
  }
 },
 "nbformat": 4,
 "nbformat_minor": 5
}
