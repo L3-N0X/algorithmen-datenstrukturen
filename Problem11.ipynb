{
 "cells": [
  {
   "cell_type": "markdown",
   "id": "d95908e2",
   "metadata": {},
   "source": [
    "# Problem 11\n",
    "\n",
    "## Problem 11.1\n",
    "\n",
    "The bubble sort implementation we discussed in class has a best-case running time complexity of $O(n2)$. Implement a better bubble sort that has a best-case running time complexity of $O(n)$. Hint: stop as early as possible, i.e. if the sequence was not altered at all in the previous iteration."
   ]
  },
  {
   "cell_type": "code",
   "execution_count": 26,
   "id": "c76a640e",
   "metadata": {},
   "outputs": [
    {
     "data": {
      "text/plain": [
       "[1, 2, 3, 4, 5, 6, 7, 8, 9]"
      ]
     },
     "execution_count": 26,
     "metadata": {},
     "output_type": "execute_result"
    }
   ],
   "source": [
    "def bubble_sort(list):\n",
    "    for i in range(len(list) - 1):\n",
    "        stop = True\n",
    "        for j in range(len(list) - i - 1):\n",
    "            if list[j] > list[j + 1]:\n",
    "                list[j], list[j + 1] = list[j + 1], list[j]\n",
    "                stop = False\n",
    "        if stop:\n",
    "            return\n",
    "\n",
    "\n",
    "data = [1, 9, 2, 7, 6, 4, 3, 5, 8]\n",
    "bubble_sort(data)\n",
    "data"
   ]
  },
  {
   "cell_type": "markdown",
   "id": "b8ee49a0",
   "metadata": {},
   "source": [
    "## Problem 11.2\n",
    "\n",
    "Implement `merge(S1, S2, S)` for merge sort."
   ]
  },
  {
   "cell_type": "code",
   "execution_count": 66,
   "id": "e4a4be69",
   "metadata": {},
   "outputs": [
    {
     "data": {
      "text/plain": [
       "[4, 11, 12, 13, 14, 15, 16, 17, 18, 22]"
      ]
     },
     "execution_count": 66,
     "metadata": {},
     "output_type": "execute_result"
    }
   ],
   "source": [
    "def merge(S1, S2, S):\n",
    "    i = 0\n",
    "    j = 0\n",
    "    while i < len(S1) and j < len(S2):\n",
    "        if S1[i] < S2[j]:\n",
    "            S[i + j] = S1[i]\n",
    "            i += 1\n",
    "        else:\n",
    "            S[i + j] = S2[j]\n",
    "            j += 1\n",
    "    while i < len(S1):\n",
    "        S[i + j] = S1[i]\n",
    "        i += 1\n",
    "    while j < len(S2):\n",
    "        S[i + j] = S2[j]\n",
    "        j += 1\n",
    "\n",
    "    return S\n",
    "\n",
    "\n",
    "merge([12, 13, 14, 16, 18], [4, 11, 15, 17, 22], [None] * 10)"
   ]
  },
  {
   "cell_type": "markdown",
   "id": "8daf03e4",
   "metadata": {},
   "source": [
    "## Problem 11.3\n",
    "\n",
    "Implement a randomized quicksort, which randomly picks the pivot element. This algorithm has a worst-case expected running time complexity of $O(n \\log n)$. Compare its execution time to the quicksort algorithm shown in class. Use various data sets of $10,000$ or more elements, including a data set that is already sorted. What do you observe? \n",
    "\n",
    "*Note on randomized quicksort:*\\\n",
    "Its absolute worst-case is still O(n2), yet it is very unlikely: “The probability that quicksort will use a quadratic number of compares when sorting a large array on your computer is much less than the probability that your computer will be struck by lightning.”3."
   ]
  },
  {
   "cell_type": "code",
   "execution_count": 84,
   "id": "36cf5e86",
   "metadata": {},
   "outputs": [],
   "source": [
    "import random\n",
    "\n",
    "\n",
    "def randomized_quick_sort(S):\n",
    "    if len(S) <= 1:\n",
    "        return S\n",
    "    left = []\n",
    "    right = []\n",
    "    pivot = random.choice(S)\n",
    "    for element in S:\n",
    "        if element >= pivot:\n",
    "            right.append(element)\n",
    "        else:\n",
    "            left.append(element)\n",
    "    left = randomized_quick_sort(left)\n",
    "    right = randomized_quick_sort(right[1:])\n",
    "    return left + [pivot] + right\n",
    "\n",
    "\n",
    "def quick_sort(S):\n",
    "    if len(S) <= 1:\n",
    "        return S\n",
    "    left = []\n",
    "    right = []\n",
    "    pivot = S[0]\n",
    "    for element in S:\n",
    "        if element >= pivot:\n",
    "            right.append(element)\n",
    "        else:\n",
    "            left.append(element)\n",
    "    left = quick_sort(left)\n",
    "    right = quick_sort(right[1:])\n",
    "    return left + [pivot] + right"
   ]
  },
  {
   "cell_type": "code",
   "execution_count": 85,
   "id": "e8814ce9",
   "metadata": {},
   "outputs": [],
   "source": [
    "random_list = [random.randint(1, 10000) for _ in range(1_000)]\n",
    "sorted_list = sorted(random_list)\n",
    "reverse_sorted_list = sorted_list[::-1]\n",
    "duplicate_list = [random.choice([1, 2, 3, 4, 5]) for _ in range(1_000)]"
   ]
  },
  {
   "cell_type": "code",
   "execution_count": 90,
   "id": "a2e271ce",
   "metadata": {},
   "outputs": [
    {
     "name": "stdout",
     "output_type": "stream",
     "text": [
      "quick_sort - random_list\n",
      "837 μs ± 47.5 μs per loop (mean ± std. dev. of 7 runs, 1,000 loops each)\n",
      "\n",
      "quick_sort - sorted_list\n",
      "21.8 ms ± 752 μs per loop (mean ± std. dev. of 7 runs, 10 loops each)\n",
      "\n",
      "quick_sort - reverse_sorted_list\n",
      "18.2 ms ± 449 μs per loop (mean ± std. dev. of 7 runs, 100 loops each)\n",
      "\n",
      "quick_sort - duplicate_list\n",
      "4.32 ms ± 173 μs per loop (mean ± std. dev. of 7 runs, 100 loops each)\n",
      "\n",
      "\n",
      "------------------\n",
      "\n",
      "\n",
      "randomized_quick_sort - random_list\n",
      "902 μs ± 18.2 μs per loop (mean ± std. dev. of 7 runs, 1,000 loops each)\n",
      "\n",
      "randomized_quick_sort - sorted_list\n",
      "823 μs ± 20 μs per loop (mean ± std. dev. of 7 runs, 1,000 loops each)\n",
      "\n",
      "randomized_quick_sort - reverse_sorted_list\n",
      "859 μs ± 20.2 μs per loop (mean ± std. dev. of 7 runs, 1,000 loops each)\n",
      "\n",
      "randomized_quick_sort - duplicate_list\n",
      "4.79 ms ± 147 μs per loop (mean ± std. dev. of 7 runs, 100 loops each)\n"
     ]
    }
   ],
   "source": [
    "print(\"quick_sort - random_list\")\n",
    "%timeit quick_sort(random_list)\n",
    "print(\"\\nquick_sort - sorted_list\")\n",
    "%timeit quick_sort(sorted_list)\n",
    "print(\"\\nquick_sort - reverse_sorted_list\")\n",
    "%timeit quick_sort(reverse_sorted_list)\n",
    "print(\"\\nquick_sort - duplicate_list\")\n",
    "%timeit quick_sort(duplicate_list)\n",
    "print(\"\\n\\n------------------\\n\\n\")\n",
    "print(\"randomized_quick_sort - random_list\")\n",
    "%timeit randomized_quick_sort(random_list)\n",
    "print(\"\\nrandomized_quick_sort - sorted_list\")\n",
    "%timeit randomized_quick_sort(sorted_list)\n",
    "print(\"\\nrandomized_quick_sort - reverse_sorted_list\")\n",
    "%timeit randomized_quick_sort(reverse_sorted_list)\n",
    "print(\"\\nrandomized_quick_sort - duplicate_list\")\n",
    "%timeit randomized_quick_sort(duplicate_list)"
   ]
  },
  {
   "cell_type": "markdown",
   "id": "4bd373c1",
   "metadata": {},
   "source": [
    "> randomized quick search perfoms much better than the quick sort, especially on sorted lists. On Lists with duplication, they both perform almost equally. The randomized one performs good and equally, no matter how the list is sorted, like expected."
   ]
  }
 ],
 "metadata": {
  "kernelspec": {
   "display_name": ".venv (3.12.8)",
   "language": "python",
   "name": "python3"
  },
  "language_info": {
   "codemirror_mode": {
    "name": "ipython",
    "version": 3
   },
   "file_extension": ".py",
   "mimetype": "text/x-python",
   "name": "python",
   "nbconvert_exporter": "python",
   "pygments_lexer": "ipython3",
   "version": "3.12.10"
  }
 },
 "nbformat": 4,
 "nbformat_minor": 5
}
